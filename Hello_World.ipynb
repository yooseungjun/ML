{
  "nbformat": 4,
  "nbformat_minor": 0,
  "metadata": {
    "colab": {
      "provenance": []
    },
    "kernelspec": {
      "name": "python3",
      "display_name": "Python 3"
    },
    "language_info": {
      "name": "python"
    }
  },
  "cells": [
    {
      "cell_type": "markdown",
      "source": [
        "#**<혼자 공부하는 머신러닝 딥러닝>** \n",
        "코랩으로 공부\n",
        "\n"
      ],
      "metadata": {
        "id": "EPFYMYYRAQdC"
      }
    },
    {
      "cell_type": "code",
      "source": [
        "import matplotlib.pyplot as plt\n",
        "\n",
        "bream_length = [25.4, 26.3, 26.5, 29.0, 29.0, 29.7, 29.7, 30.0, 30.0, 30.7, 31.0, 31.0, \n",
        "                31.5, 32.0, 32.0, 32.0, 33.0, 33.0, 33.5, 33.5, 34.0, 34.0, 34.5, 35.0, \n",
        "                35.0, 35.0, 35.0, 36.0, 36.0, 37.0, 38.5, 38.5, 39.5, 41.0, 41.0]\n",
        "bream_weight = [242.0, 290.0, 340.0, 363.0, 430.0, 450.0, 500.0, 390.0, 450.0, 500.0, 475.0, 500.0, \n",
        "                500.0, 340.0, 600.0, 600.0, 700.0, 700.0, 610.0, 650.0, 575.0, 685.0, 620.0, 680.0, \n",
        "                700.0, 725.0, 720.0, 714.0, 850.0, 1000.0, 920.0, 955.0, 925.0, 975.0, 950.0]\n",
        "\n",
        "plt.scatter(bream_length,bream_weight)\n",
        "\n",
        "smelt_length = [9.8, 10.5, 10.6, 11.0, 11.2, 11.3, 11.8, 11.8, 12.0, 12.2, 12.4, 13.0, 14.3, 15.0]\n",
        "smelt_weight = [6.7, 7.5, 7.0, 9.7, 9.8, 8.7, 10.0, 9.9, 9.8, 12.2, 13.4, 12.2, 19.7, 19.9]\n",
        "\n",
        "plt.scatter(smelt_length,smelt_weight)\n",
        "plt.ylabel(\"length\")\n",
        "plt.xlabel(\"weight\")\n",
        "plt.show()\n",
        "length = bream_length + smelt_length\n",
        "weight = bream_weight + smelt_weight\n",
        "\n",
        "fish_data = [ [i,j] for i,j in zip(length,weight)] #도미 + 빙어 무게 길이 짝\n",
        "fish_target = [1]*35 + [0]*14"
      ],
      "metadata": {
        "colab": {
          "base_uri": "https://localhost:8080/",
          "height": 279
        },
        "id": "fJuJiMDbAUyc",
        "outputId": "4b2d5f5e-b74f-495f-be19-72a953b78bee"
      },
      "execution_count": null,
      "outputs": [
        {
          "output_type": "display_data",
          "data": {
            "text/plain": [
              "<Figure size 432x288 with 1 Axes>"
            ],
            "image/png": "[encoded data removed]"
          },
          "metadata": {
            "needs_background": "light"
          }
        }
      ]
    },
    {
      "cell_type": "code",
      "source": [
        "from sklearn.neighbors import KNeighborsClassifier\n",
        "kn = KNeighborsClassifier()\n",
        "kn.fit(fish_data, fish_target)\n",
        "kn.score(fish_data,fish_target)\n",
        "\n",
        "kn.predict([ [300,400],[10,16] ])\n",
        "print(kn._fit_X)\n",
        "print(kn._y)"
      ],
      "metadata": {
        "id": "sgsGGiIem8RE"
      },
      "execution_count": null,
      "outputs": []
    },
    {
      "cell_type": "markdown",
      "source": [
        ">**거리같은경우 어떻게 분류?**"
      ],
      "metadata": {
        "id": "ah3XxjTX5JWu"
      }
    },
    {
      "cell_type": "code",
      "source": [
        "import matplotlib.pyplot as plt\n",
        "\n",
        "data_0 = [[0,0],\n",
        "          [0,2]]\n",
        "data_1 = [[2,0],\n",
        "          [2,2]]\n",
        "x_0 = list(zip(*data_0))[0] #0,0\n",
        "y_0 = list(zip(*data_0))[1] #0,2\n",
        "\n",
        "x_1 = list(zip(*data_1))[0] #2,2\n",
        "y_1 = list(zip(*data_1))[1] #0,2\n",
        "\n",
        "# list(zip(*data_1))  <= 이건 [(2,2), (0,2)]된다\n",
        "\n",
        "plt.plot(x_0,y_0,'ro')\n",
        "plt.plot(x_1,y_1,'bo')\n",
        "plt.axis([-1,3,-1,3])\n",
        "plt.plot(1,1,'go')\n",
        "plt.show()\n",
        "\n",
        "data_ans = [0]*2 + [1]*2\n",
        "testkn = KNeighborsClassifier(n_neighbors=1)\n",
        "\n",
        "testkn.fit(data_0 + data_1,data_ans)\n",
        "testkn.predict([[1,1]])\n",
        "\n"
      ],
      "metadata": {
        "colab": {
          "base_uri": "https://localhost:8080/",
          "height": 287
        },
        "id": "BNcyJG9U1PTH",
        "outputId": "64d47696-9330-461e-da2a-30139c1cce16"
      },
      "execution_count": null,
      "outputs": [
        {
          "output_type": "display_data",
          "data": {
            "text/plain": [
              "<Figure size 432x288 with 1 Axes>"
            ],
            "image/png": "[encoded data removed]"
          },
          "metadata": {
            "needs_background": "light"
          }
        },
        {
          "output_type": "execute_result",
          "data": {
            "text/plain": [
              "array([0])"
            ]
          },
          "metadata": {},
          "execution_count": 80
        }
      ]
    },
    {
      "cell_type": "code",
      "source": [
        "# 기본의 K-Nearest 알고리즘은 주변 데이터 n=5인경우만 확인한다\n",
        "# n=49개인경우 주변 49개 데이터 확인하고 가장 많은 것 선택\n",
        "# 도미가 35개고 빙어는 14개라서 무조건 도미 선택한다.\n",
        "\n",
        "kn49 = KNeighborsClassifier(n_neighbors=49)\n",
        "kn49.fit(fish_data,fish_target)\n",
        "kn49.score(fish_data,fish_target)"
      ],
      "metadata": {
        "colab": {
          "base_uri": "https://localhost:8080/"
        },
        "id": "2KrbomcpCAB4",
        "outputId": "3b7414d5-f09e-4c62-dc72-7c3c7a4de4c1"
      },
      "execution_count": null,
      "outputs": [
        {
          "output_type": "execute_result",
          "data": {
            "text/plain": [
              "0.7142857142857143"
            ]
          },
          "metadata": {},
          "execution_count": 82
        }
      ]
    },
    {
      "cell_type": "markdown",
      "source": [
        "**연습문제**"
      ],
      "metadata": {
        "id": "FZ4kEBEzDF-3"
      }
    },
    {
      "cell_type": "code",
      "source": [
        "kn = KNeighborsClassifier()\n",
        "kn.fit(fish_data,fish_target)\n",
        "\n",
        "for n in range(5,50):\n",
        "  kn.n_neighbors=n\n",
        "  score = kn.score(fish_data,fish_target)\n",
        "  if score < 1:\n",
        "    print(n,score)\n",
        "  "
      ],
      "metadata": {
        "id": "yQPhGVXFDIiY"
      },
      "execution_count": null,
      "outputs": []
    },
    {
      "cell_type": "code",
      "source": [],
      "metadata": {
        "id": "4DeDZIJhCvnP"
      },
      "execution_count": null,
      "outputs": []
    }
  ]
}