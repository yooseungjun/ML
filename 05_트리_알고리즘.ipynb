{
  "nbformat": 4,
  "nbformat_minor": 0,
  "metadata": {
    "colab": {
      "provenance": [],
      "toc_visible": true,
      "authorship_tag": "ABX9TyPfwWqMpxWU5zgrOFSyfwp/",
      "include_colab_link": true
    },
    "kernelspec": {
      "name": "python3",
      "display_name": "Python 3"
    },
    "language_info": {
      "name": "python"
    }
  },
  "cells": [
    {
      "cell_type": "markdown",
      "metadata": {
        "id": "view-in-github",
        "colab_type": "text"
      },
      "source": [
        "<a href=\"https://colab.research.google.com/github/yooseungjun/ML/blob/main/05_%ED%8A%B8%EB%A6%AC_%EC%95%8C%EA%B3%A0%EB%A6%AC%EC%A6%98.ipynb\" target=\"_parent\"><img src=\"https://colab.research.google.com/assets/colab-badge.svg\" alt=\"Open In Colab\"/></a>"
      ]
    },
    {
      "cell_type": "markdown",
      "source": [
        "#**05-1 결정트리**\n",
        " "
      ],
      "metadata": {
        "id": "ReT0ZcbHVBuf"
      }
    },
    {
      "cell_type": "code",
      "execution_count": 1,
      "metadata": {
        "id": "uG04ULr_U9vq",
        "colab": {
          "base_uri": "https://localhost:8080/"
        },
        "outputId": "e859e23b-bd06-4d4c-f7cb-bbb40b32952f"
      },
      "outputs": [
        {
          "output_type": "stream",
          "name": "stdout",
          "text": [
            "<class 'pandas.core.frame.DataFrame'>\n",
            "RangeIndex: 6497 entries, 0 to 6496\n",
            "Data columns (total 4 columns):\n",
            " #   Column   Non-Null Count  Dtype  \n",
            "---  ------   --------------  -----  \n",
            " 0   alcohol  6497 non-null   float64\n",
            " 1   sugar    6497 non-null   float64\n",
            " 2   pH       6497 non-null   float64\n",
            " 3   class    6497 non-null   float64\n",
            "dtypes: float64(4)\n",
            "memory usage: 203.2 KB\n"
          ]
        },
        {
          "output_type": "execute_result",
          "data": {
            "text/plain": [
              "0.7776923076923077"
            ]
          },
          "metadata": {},
          "execution_count": 1
        }
      ],
      "source": [
        "import pandas as pd\n",
        "wine = pd.read_csv('https://bit.ly/wine_csv_data')\n",
        "wine.head() #3개열 alcohol\tsugar\tpH\t와인 class(0이면 레드 1이면 화이트)\n",
        "wine.info() #각 열의 데이터타입과 누락된 데이터가 있는지 확인\n",
        "wine.describe() #d열에 대한 간단한 통계 출력해준다\n",
        "\n",
        "data = wine[['alcohol','sugar','pH']].to_numpy()\n",
        "target = wine['class'].to_numpy()\n",
        "\n",
        "from sklearn.model_selection import train_test_split\n",
        "train_input,test_input, train_target, test_target = train_test_split(\n",
        "    data, target, test_size=0.2, random_state = 42 # test_size-20%정도만 테스트 세트로 나누고싶다는 뜻\n",
        ")\n",
        "train_input.shape #(5197,3)\n",
        "test_input.shape #(1300,3)\n",
        "\n",
        "from sklearn.preprocessing import StandardScaler\n",
        "ss = StandardScaler()\n",
        "ss.fit(train_input,train_target)\n",
        "train_scaled = ss.transform(train_input)\n",
        "test_scaled = ss.transform(test_input)\n",
        "\n",
        "#로지스틱 회귀로 문제 접근해보자#\n",
        "from sklearn.linear_model import LogisticRegression\n",
        "lr = LogisticRegression()\n",
        "lr.fit(train_scaled,train_target)\n",
        "#점수 약간 아쉽네?#\n",
        "lr.score(train_scaled,train_target) #0.7808350971714451\n",
        "lr.score(test_scaled,test_target) #0.7776923076923077\n"
      ]
    },
    {
      "cell_type": "markdown",
      "source": [
        "#**결정트리**\n",
        " - 스무고개처럼 질문을 하나씩 던져가며 정답 맞추는 것과 비슷\n",
        " - **sklearn.tree** 패키지 **DecisionTreeClassifier** 매서드\n",
        " - 테스트조건, 불순도, 샘플수, 클래스별 샘플수[0, 1]\n",
        " - 왼쪽가지 -> True  // 오른쪽가지 -> False\n",
        " "
      ],
      "metadata": {
        "id": "afa9g9-Gdgsg"
      }
    },
    {
      "cell_type": "code",
      "source": [
        "from sklearn.tree import DecisionTreeClassifier\n",
        "dt = DecisionTreeClassifier()\n",
        "dt.fit(train_scaled,train_target)\n",
        "dt.score(train_scaled,train_target) #0.996921300750433\n",
        "dt.score(test_scaled,test_target) #0.8576923076923076\n",
        "#테스트성능은 훈련에 비해 조금 낮음 ==> 과대적합이네\n",
        "\n",
        "import matplotlib.pyplot as plt\n",
        "from sklearn.tree import plot_tree\n",
        "plt.figure(figsize=(10,7))\n",
        "# plot_tree(dt) \n",
        "plt.show()"
      ],
      "metadata": {
        "colab": {
          "base_uri": "https://localhost:8080/",
          "height": 35
        },
        "id": "fDARoWlVZdmA",
        "outputId": "8d14d92a-689c-4c30-fdba-1eb2ee2ecb6e"
      },
      "execution_count": 2,
      "outputs": [
        {
          "output_type": "display_data",
          "data": {
            "text/plain": [
              "<Figure size 720x504 with 0 Axes>"
            ]
          },
          "metadata": {}
        }
      ]
    },
    {
      "cell_type": "code",
      "source": [
        "plt.figure(figsize=(10,7))\n",
        "plot_tree(dt, max_depth = 1, feature_names=['alcohol','sugar','pH'])\n",
        "plt.show()"
      ],
      "metadata": {
        "colab": {
          "base_uri": "https://localhost:8080/",
          "height": 411
        },
        "id": "Wu9ZZOtYSG9L",
        "outputId": "d1a05df7-443a-452b-aea3-f0e2c8b6c17e"
      },
      "execution_count": 3,
      "outputs": [
        {
          "output_type": "display_data",
          "data": {
            "text/plain": [
              "<Figure size 720x504 with 1 Axes>"
            ],
            "image/png": "[encoded data removed]"
          },
          "metadata": {
            "needs_background": "light"
          }
        }
      ]
    },
    {
      "cell_type": "markdown",
      "source": [
        "#**정리 - 불순도**\n",
        " - 트리 노드중에 **gini** - 지니 불순도 의미\n",
        " - DecisionTreeClassifier 클래스 **crierion** 매개변수 기본값 : gini\n",
        " - criterion매개변수 : 노드에서 데이터를 분할하는 기준을 정함 \n",
        " - 지니 불순도 : 1-(음성클래스비율$^2$ + 양성 클래스 비율$^2$)\n",
        " "
      ],
      "metadata": {
        "id": "8A7lSGn9JH6z"
      }
    },
    {
      "cell_type": "markdown",
      "source": [
        "#**정리 - 가지치기**\n",
        " - 트리 가지가 너무 많음 + 끝까지 자람\n",
        " - 가지를 잘라야 한다 ==> 트리의 최대깊이를 지정 **max_depth** 매개변수\n",
        " \n"
      ],
      "metadata": {
        "id": "ntZeZiU-d0FE"
      }
    },
    {
      "cell_type": "code",
      "source": [
        "dt = DecisionTreeClassifier(max_depth=3,random_state=42)\n",
        "dt.fit(train_scaled,train_target)\n",
        "dt.score(train_scaled,train_target) #0.8454877814123533\n",
        "dt.score(test_scaled,test_target) #0.8415384615384616\n",
        "\n",
        "plt.figure(figsize=(10,7))\n",
        "plot_tree(dt,filled= True, feature_names=['alcohol','sugar','pH'])\n",
        "plt.show()"
      ],
      "metadata": {
        "colab": {
          "base_uri": "https://localhost:8080/",
          "height": 411
        },
        "id": "HWo9hb_EeP4k",
        "outputId": "ab1ebf35-bb1a-43ef-d0a7-b61bf601535a"
      },
      "execution_count": 4,
      "outputs": [
        {
          "output_type": "display_data",
          "data": {
            "text/plain": [
              "<Figure size 720x504 with 1 Axes>"
            ],
            "image/png": "[encoded data removed]"
          },
          "metadata": {
            "needs_background": "light"
          }
        }
      ]
    },
    {
      "cell_type": "code",
      "source": [
        "dt = DecisionTreeClassifier(max_depth = 3, random_state = 42)\n",
        "dt.fit(train_input,train_target)\n",
        "dt.score(train_input,train_target) #0.8454877814123533\n",
        "dt.score(test_input,test_target) #0.8415384615384616\n",
        "\n",
        "plt.figure(figsize = (10,7))\n",
        "plot_tree(dt,filled=True, feature_names=['alcohol','sugar','pH'])\n",
        "plt.show()"
      ],
      "metadata": {
        "colab": {
          "base_uri": "https://localhost:8080/",
          "height": 411
        },
        "id": "F7d3-uyffa7T",
        "outputId": "7ea51143-5a49-4711-f897-f3b06568033f"
      },
      "execution_count": 5,
      "outputs": [
        {
          "output_type": "display_data",
          "data": {
            "text/plain": [
              "<Figure size 720x504 with 1 Axes>"
            ],
            "image/png": "[encoded data removed]"
          },
          "metadata": {
            "needs_background": "light"
          }
        }
      ]
    },
    {
      "cell_type": "markdown",
      "source": [
        "#**정리 - 정규화??**\n",
        " - 결정트리 - 스케일 아무런 영향을 미치지 않는다 => 표준화 전처리를 할 필요가 없다.\n",
        " "
      ],
      "metadata": {
        "id": "pS0C5XalggZo"
      }
    },
    {
      "cell_type": "markdown",
      "source": [
        "#**05-2 교차검증과 그리드 서치**\n",
        " - max_depth 다른값하면 성능이 달라진다\n",
        " - 모델을 많이 만들어서 테스트 세트로 평가 => 테스트 세트에 잘 맞는 모델이 만들어진다.\n",
        " - 테스트 세트로 일반화 성능 올바르게 예측하여면 테스트세트 사용X\n",
        " - 모델을 만들고 마지막에 딱 한 번 사용하는 것이 좋다."
      ],
      "metadata": {
        "id": "Ay21uNKiipxy"
      }
    },
    {
      "cell_type": "markdown",
      "source": [
        "#**정리 - 검증세트**\n",
        " - 기존 데이터 분할 => 훈련 8 : 테스트 2\n",
        " - 검증세트 분할  => 훈련 6 : 검증 2 : 테스트 2\n",
        " \n",
        " ![이미지](https://img.hankyung.com/photo/202012/d06154ffe1ffdb9a65b61bfdd657d562.jpg)"
      ],
      "metadata": {
        "id": "fqhTRnawkJjR"
      }
    },
    {
      "cell_type": "code",
      "source": [
        "import pandas as pd\n",
        "wine = pd.read_csv('https://bit.ly/wine_csv_data')\n",
        "data = wine[['alcohol','sugar','pH']].to_numpy()\n",
        "target = wine['class'].to_numpy()\n",
        "\n",
        "from sklearn.model_selection import train_test_split\n",
        "train_input, test_input, train_target, test_target = train_test_split(\n",
        "    data, target,random_state = 42, test_size=0.2\n",
        ")\n",
        "sub_input,val_input,sub_target,val_target = train_test_split(\n",
        "    train_input,train_target,test_size = 0.2, random_state = 42\n",
        ")\n",
        "\n",
        "sub_input.shape #(4157, 3)\n",
        "val_input.shape #(1040, 3)\n",
        "test_input.shape #(1300,3)\n",
        "\n",
        "from sklearn.tree import DecisionTreeClassifier\n",
        "dt = DecisionTreeClassifier()\n",
        "dt.fit(sub_input,sub_target)\n",
        "dt.score(sub_input,sub_target) #0.9971133028626413\n",
        "dt.score(val_input,val_target) #0.8653846153846154"
      ],
      "metadata": {
        "id": "M0os7D24ipiQ",
        "colab": {
          "base_uri": "https://localhost:8080/"
        },
        "outputId": "931bb94c-0a1f-4e10-95ce-afde158a55de"
      },
      "execution_count": 6,
      "outputs": [
        {
          "output_type": "execute_result",
          "data": {
            "text/plain": [
              "0.8663461538461539"
            ]
          },
          "metadata": {},
          "execution_count": 6
        }
      ]
    },
    {
      "cell_type": "markdown",
      "source": [
        "#**정리 - 교차검증**\n",
        " - 교차검증 : 검증 세트를 떼어 내어 평가하는 과정을 여러 번 반복\n",
        " - K-폴드 교차 검증(3개로 나누면 3-폴드 교차검증)\n",
        "![이미지](https://blog.kakaocdn.net/dn/caM9Yt/btqVOsIyV9o/Cnu2KjGWZzKfK2Mm6lf7Mk/img.png)"
      ],
      "metadata": {
        "id": "F4_wsx9otlka"
      }
    },
    {
      "cell_type": "markdown",
      "source": [
        "# **정보**\n",
        " - **cross_validate** : 기본적으로 5-폴드 교차 검증 수행 + 훈련 세트를 섞어 폴드를 나누지 않는다.\n",
        " - cross_validate(cv=분할기)로 폴드 수를 바꿀 수도 있다.\n",
        " - sklearn.model_selection클래스 내 **StratifiedKFolder**함수\n",
        " - **StratifiedKFold**(n_splits=10,shuffle=True,random_state=42)\n",
        "  - n_splits : 몇 폴드 교차검증을 할지 결정\n",
        "  - shuffle : 섞을께~ (default - False)"
      ],
      "metadata": {
        "id": "Qc2xUyAlCON3"
      }
    },
    {
      "cell_type": "code",
      "source": [
        "from sklearn.model_selection import cross_validate\n",
        "scores = cross_validate(dt,train_input, train_target)\n",
        "scores \n",
        "#{'fit_time': array([0.01268148, 0.01716113, 0.01386905, 0.01737714, 0.01685452]),\n",
        "#  'score_time': array([0.01594138, 0.01223731, 0.00155401, 0.00144219, 0.00671983]),\n",
        "#  'test_score': array([0.86538462, 0.85096154, 0.87391723, 0.85081809, 0.84023099])}\n",
        "\n",
        "import numpy as np\n",
        "np.mean(scores['test_score']) #테스트 평균점수 0.855300769971126\n",
        "\n",
        "from sklearn.model_selection import StratifiedKFold\n",
        "score = cross_validate(dt,train_input,train_target)\n",
        "np.mean(score['test_score']) #0.8554908565928778\n",
        "\n",
        "#10-폴드 교차 검증\n",
        "splitter = StratifiedKFold(n_splits = 10,shuffle=True,random_state = 42)\n",
        "score = cross_validate(dt,train_input,train_target,cv=splitter)\n",
        "np.mean(score['test_score']) #0.8583807618200682"
      ],
      "metadata": {
        "id": "flFPa3YjrHc1",
        "colab": {
          "base_uri": "https://localhost:8080/"
        },
        "outputId": "5daa99a6-8003-4288-fc70-03dceb3e12d0"
      },
      "execution_count": 7,
      "outputs": [
        {
          "output_type": "execute_result",
          "data": {
            "text/plain": [
              "0.8564580554320438"
            ]
          },
          "metadata": {},
          "execution_count": 7
        }
      ]
    },
    {
      "cell_type": "markdown",
      "source": [
        "#**정리 - 하이퍼파라미터 튜닝**\n",
        " - **모델 파라미터** : 머신러닝 모델이 학습하는 파라미터\n",
        " - **하이퍼파라미터** : 모델이 학습할 수 없어 사용자가 지정해야만 하는 파라미터\n",
        " - Auto ML : 하이퍼파라미터를 튜닝을 자동으로 수행하는 기술\n",
        " - max_depth와 min_sample_split관계\n",
        "  - max_depth의 최적값은 min_sample_split 매개변수의 값이 바뀌면 함께 달라진다.\n",
        " - **GridSearchCV** : 하이퍼파라미터 탐색과 교차검증을 한 번에 수행\n",
        "  - cross_validate() 함수를 호출활 필요가 없다\n",
        "  \n"
      ],
      "metadata": {
        "id": "E3ggREorkDBL"
      }
    },
    {
      "cell_type": "code",
      "source": [
        "from sklearn.model_selection import GridSearchCV\n",
        "#탐색할 매개변수와 탐색할 값의 리스트를 딕셔너리로 만든다\n",
        "params = {'min_impurity_decrease' : [0.0001,0.0002,0.0003,0.0004,0.0005] }\n",
        "gs = GridSearchCV(DecisionTreeClassifier(random_state=42) ,params , n_jobs=-1 )\n",
        "#GirdSearchCV의 cv매개변수 디폴트 5 : min_impurity_decrease총 5번 실행하므로 (5 X 5 = 25번 실행)\n",
        "gs.fit(train_input,train_target)\n",
        "\n",
        "#점수가 가장 높은 모델 => gs객체의 best_estimator_ 속성에 저장되어있다.\n",
        "dt = gs.best_estimator_\n",
        "dt.score(train_input,train_target) #0.9615162593804117\n",
        "\n",
        "#그리드서치로 찾은 최적의 매개변수 => best_params_ 속성에 저장\n",
        "gs.best_params_ #{'min_impurity_decrease': 0.0001}\n",
        "\n",
        "#교차검증의 평균점수 -> cv_result_속성['mean_test_score']키에 저장되어있다.\n",
        "gs.cv_results_['mean_test_score'] #[0.86819297, 0.86453617, 0.86492226, 0.86780891, 0.86761605]"
      ],
      "metadata": {
        "id": "kfsmPl_qkBwW",
        "colab": {
          "base_uri": "https://localhost:8080/"
        },
        "outputId": "a62b47a9-a085-4b97-863a-6882a50aeaf4"
      },
      "execution_count": 8,
      "outputs": [
        {
          "output_type": "execute_result",
          "data": {
            "text/plain": [
              "array([0.86819297, 0.86453617, 0.86492226, 0.86780891, 0.86761605])"
            ]
          },
          "metadata": {},
          "execution_count": 8
        }
      ]
    },
    {
      "cell_type": "markdown",
      "source": [
        "#**정리 - GridSearchCV과정**\n",
        " 1. 탐색할 매개변수를 지정한다\n",
        " 2. 훈련세트에서 그리드 서치를 수행하여 최상의 평균 검증 점수가 나오는 매개변수 조합을 찾는다.\n",
        "    <br/> ⇒ 이 조합은 그리드 서치 객체에 저장 ( **gs.best_params_**) \n",
        " 3. 그리드 서치는 최상의 매개변수에서 전체 훈련 세트를 사용해 최종 모델을 훈련\n",
        "   <br/> ⇒ 이 모델은 그리드 서치 객체에 저장된다. (**dt.best_estimator_**)"
      ],
      "metadata": {
        "id": "D23A4ySruM0o"
      }
    },
    {
      "cell_type": "code",
      "source": [
        "params = {'min_impurity_decrease' : np.arange(0.0001,0.001,0.0001),\n",
        "          'max_depth': range(5,20,1),\n",
        "          'min_samples_split' : range(2,100,10)\n",
        "          }\n",
        "gs = GridSearchCV(DecisionTreeClassifier(random_state=42),params,n_jobs=-1)\n",
        "gs.fit(train_input,train_target)\n",
        "gs.best_params_ # {'max_depth': 14, 'min_impurity_decrease': 0.0004, 'min_samples_split': 12}\n",
        "np.max(gs.cv_results_['mean_test_score']) #0.8683865773302731"
      ],
      "metadata": {
        "colab": {
          "base_uri": "https://localhost:8080/"
        },
        "id": "uTgvQyVKwo0C",
        "outputId": "24afc945-b5f7-49b7-f4a8-59626d983109"
      },
      "execution_count": 9,
      "outputs": [
        {
          "output_type": "execute_result",
          "data": {
            "text/plain": [
              "0.8683865773302731"
            ]
          },
          "metadata": {},
          "execution_count": 9
        }
      ]
    },
    {
      "cell_type": "markdown",
      "source": [
        "#**정리 - 랜덤서치**\n",
        " - 매개변수의 값이 수치일 때 값의 범위나 간격을 미리 정하기 어렵다\n",
        " - 너무 많은 매개변수 조건이 있어 그리드 서치 수행 시간이 오래 걸릴수 도 있다.\n",
        " - **랜덤서치** : 매개변수 값의 목록을 전달하는 것이 아니라  <br/>\n",
        "   　　　　　매개변수를 샘플링할 수 있는 확률분포를 전달"
      ],
      "metadata": {
        "id": "f40M3wB2zXDC"
      }
    },
    {
      "cell_type": "code",
      "source": [
        "from scipy.stats import uniform,randint\n",
        "rgen = randint(0,10)\n",
        "np.unique(rgen.rvs(1000),return_counts=True)\n",
        "#     (array([0, 1, 2, 3, 4, 5, 6, 7, 8, 9]),\n",
        "#     array([ 95,  93, 103,  94, 111,  90, 110,  88, 113, 103]))\n",
        "\n",
        "ugen = uniform(0,1)\n",
        "ugen.rvs(10)\n",
        "#       [0.1602231 , 0.43505251, 0.33834108, 0.28122033, 0.7626123 ,\n",
        "#        0.75827452, 0.21498013, 0.1360144 , 0.46636865, 0.27530514]"
      ],
      "metadata": {
        "id": "3JdMw_R0yBch",
        "colab": {
          "base_uri": "https://localhost:8080/"
        },
        "outputId": "e0bf2465-4403-426d-917d-4f1d87d34914"
      },
      "execution_count": 10,
      "outputs": [
        {
          "output_type": "execute_result",
          "data": {
            "text/plain": [
              "array([0.1877197 , 0.45622806, 0.54037121, 0.70717381, 0.85434784,\n",
              "       0.26711224, 0.51408531, 0.50805158, 0.41238846, 0.36755169])"
            ]
          },
          "metadata": {},
          "execution_count": 10
        }
      ]
    },
    {
      "cell_type": "code",
      "source": [
        "#params에 min_samples_leaf 매개변수 추가\n",
        "params = {'min_impurity_decrease' : uniform(0.001,0.001),\n",
        "          'max_depth' : randint(20,50),\n",
        "          'min_samples_split' : randint(2,25),\n",
        "          'min_samples_leaf' : randint(1,25)\n",
        "         }\n",
        "from sklearn.model_selection import RandomizedSearchCV\n",
        "gs = RandomizedSearchCV(DecisionTreeClassifier(random_state=42),params,\n",
        "                        n_iter = 100, n_jobs = -1,random_state = 42 )\n",
        "gs.fit(train_input,train_target)\n",
        "gs.best_params_\n",
        "#      {'max_depth': 45,\n",
        "#      'min_impurity_decrease': 0.001025419126744095,\n",
        "#      'min_samples_leaf': 13,\n",
        "#      'min_samples_split': 20}\n",
        "np.max(gs.cv_results_['mean_test_score'])  #0.8647301399274451\n",
        "\n",
        "dt=gs.best_estimator_\n",
        "dt.score(test_input,test_target) #0.8561538461538462"
      ],
      "metadata": {
        "id": "fTcEnvZD2QvJ",
        "colab": {
          "base_uri": "https://localhost:8080/"
        },
        "outputId": "e13666ba-a40b-4e47-eed2-91748673cea0"
      },
      "execution_count": 11,
      "outputs": [
        {
          "output_type": "execute_result",
          "data": {
            "text/plain": [
              "0.8561538461538462"
            ]
          },
          "metadata": {},
          "execution_count": 11
        }
      ]
    },
    {
      "cell_type": "markdown",
      "source": [
        "#**05-3 트리의 앙상블**\n",
        "- 정형 데이터 : 데이터들이 어떤 구조로 되어 있는 경우(csv파일 등)\n",
        "- 비정형 데이터 : 정형 데이터의 반대 (쇼핑몰에 진열된 상품, 쇼핑정보 등)\n",
        "- **앙상블 학습** : 여러개 분류기 생성, 예측들을 결합하여 더 정확한 예측을 도출\n",
        " <br/>ㅤㅤㅤㅤㅤㅤ정형데이터 다루는데 가장 뛰어난 성과 (비정형 - 신경망)\n",
        " <br/>ㅤㅤㅤㅤㅤㅤ대부분 결정 트리를 기반으로 만들어짐\n",
        "- **랜덤포레스트** :  결정 트리를 랜덤하게 만들어 숲 만든다. \n",
        " <br/>ㅤㅤㅤㅤㅤㅤㅤ각 결정트리의 예측을 사용해 최종 예측을 만든다.\n",
        "- **부트스트랩** : 데이터 세트에서 중복을 허용하여 데이터를 샘플링하는 방식\n",
        "- 부트스트랩 샘플 : 중복을 허용한 데이터들이 있는 샘플"
      ],
      "metadata": {
        "id": "vlDijrKvFXgD"
      }
    },
    {
      "cell_type": "code",
      "source": [
        "import numpy as np\n",
        "import pandas as pd\n",
        "from sklearn.model_selection import train_test_split\n",
        "wine = pd.read_csv('https://bit.ly/wine_csv_data')\n",
        "data = wine[['alcohol','sugar','pH']].to_numpy()\n",
        "target = wine['class'].to_numpy()\n",
        "train_input,test_input,train_target,test_target = train_test_split(\n",
        "    data,target, test_size=0.2 ,random_state=42 )\n",
        "\n",
        "from sklearn.model_selection import cross_validate\n",
        "from sklearn.ensemble import RandomForestClassifier\n",
        "rf = RandomForestClassifier(n_jobs=-1,random_state = 42)\n",
        "\n",
        "scores = cross_validate(rf, data,target, return_train_score = True, n_jobs=-1)\n",
        "np.mean(scores['train_score']) #0.9972679357515505\n",
        "np.mean(scores['test_score']) #0.8545522591342453\n",
        "#과대적합인가?\n",
        "\n",
        "#랜덤포레스트 = 결정트리의 앙상블 DecisionTreeClassifier의 매개변수 모두 사용가능\n",
        "#criterion, max_depth, max_features, min_samples_split, min_impurity_decrease, min_sample_leaf\n",
        "#랜덤포레스트의 특성 중요도 = 각 결정트리의 특성 중요도를 취합한것\n",
        "\n",
        "rf.fit(data,target)\n",
        "rf.feature_importances_ #[0.23123302, 0.50022721, 0.26853978]\n",
        "\n",
        "#OOB(Out of bag)샘플 - 부트스트랩 샘플에 포함되지 않고 남는 샘플\n",
        "rf = RandomForestClassifier(oob_score=True,n_jobs = -1,  random_state = 42)\n",
        "rf.fit(train_input,train_target)\n",
        "rf.oob_score_ #0.8934000384837406\n",
        "\n"
      ],
      "metadata": {
        "id": "xGs7TZPBM89v",
        "colab": {
          "base_uri": "https://localhost:8080/"
        },
        "outputId": "ce28a9e7-1fb4-452a-acb6-86cd2c969512"
      },
      "execution_count": 12,
      "outputs": [
        {
          "output_type": "execute_result",
          "data": {
            "text/plain": [
              "0.8934000384837406"
            ]
          },
          "metadata": {},
          "execution_count": 12
        }
      ]
    },
    {
      "cell_type": "markdown",
      "source": [
        "#**정리 - 엑스트라 트리**\n",
        " - **랜덤포레스트(rf)**와 비슷하게 동작, 기본적으로 100개의 결정트리\n",
        " - rf와 비슷하게 대부분의 매개변수 지원\n",
        " - 일부 특성을 랜덤하게 선택하여 노드를 분할하는 데 사용\n",
        " - **엑스트라 트리** & **랜덤포레스트** 차이점?\n",
        "  - 부트스트랩 샘플을 사용하는지 안하는지 → 각 결정트리 만들때 전체 훈련세트\n",
        " - **DecisionTreeClassifier**의 spliter매개변수 'random'\n",
        "<br/> → 엑스트라 트리가 사용하는 결정트리"
      ],
      "metadata": {
        "id": "wmjC8QO2TTbq"
      }
    },
    {
      "cell_type": "code",
      "source": [
        "from sklearn.ensemble import ExtraTreesClassifier\n",
        "et = ExtraTreesClassifier(n_jobs=-1, random_state=42)\n",
        "scores = cross_validate(et,train_input,train_target,n_jobs=-1, return_train_score=True)\n",
        "\n",
        "np.mean(scores['train_score']) #0.9972679357515505\n",
        "np.mean(scores['test_score']) #0.8887848893166506\n",
        "\n",
        "et.fit(train_input,train_target)\n",
        "et.feature_importances_ #[0.20183568, 0.52242907, 0.27573525]"
      ],
      "metadata": {
        "id": "JWOXwg7S9uc0",
        "colab": {
          "base_uri": "https://localhost:8080/"
        },
        "outputId": "fa8c1d37-aa60-48db-b7a1-44e7e5146187"
      },
      "execution_count": 13,
      "outputs": [
        {
          "output_type": "execute_result",
          "data": {
            "text/plain": [
              "array([0.20183568, 0.52242907, 0.27573525])"
            ]
          },
          "metadata": {},
          "execution_count": 13
        }
      ]
    },
    {
      "cell_type": "markdown",
      "source": [
        "#**정리 - 그래디언트 부스팅**\n",
        " - 그래디언트 부스팅 : 길이가 얖은 결정트리를 사용하여 이전 트리의 오차를 보완\n",
        "  - 경사하강법을 사용하여 트리를 앙상블에 추가한다.\n",
        "  - GradientBoostingClassifier - 기본적으로 깊이가 3인 100개의 결정트리 사용\n",
        "  - 분류 : 로지스틱 손실 함수\n",
        "  - 회귀 : 평균 제곱 오차 함수"
      ],
      "metadata": {
        "id": "1l8TEuVq_iSb"
      }
    },
    {
      "cell_type": "code",
      "source": [
        "from sklearn.ensemble import GradientBoostingClassifier\n",
        "gb = GradientBoostingClassifier(random_state = 42)\n",
        "scores = cross_validate(gb,train_input,train_target,return_train_score = True, n_jobs=-1)\n",
        "np.mean(scores['train_score']) #0.8881086892152563\n",
        "np.mean(scores['test_score']) #0.8720430147331015\n",
        "#과대적합이 거의 X - 결정트리의 개수를 늘려도 과대적합에 매우 강하다\n",
        "#학습률을 증가시키고 트리의 개수를 늘리면 성능이 향상될 수 있음\n",
        "\n",
        "gb = GradientBoostingClassifier(n_estimators=500, learning_rate = 0.2, random_state = 42)\n",
        "scores = cross_validate(gb,train_input,train_target,return_train_score=True,n_jobs=-1)\n",
        "np.mean(scores['train_score']) # 0.9464595437171814\n",
        "np.mean(scores['test_score']) # 0.8780082549788999\n",
        "#결정트리 개수 500개로 5배 늘렸지만 과대적합 잘 억제중\n",
        "\n",
        "gb.fit(train_input,train_target)\n",
        "gb.feature_importances_\n",
        "#[0.15872278, 0.68010884, 0.16116839] ==> 당도에 더 집중하는 구나"
      ],
      "metadata": {
        "id": "rbvahN0KHzUQ",
        "colab": {
          "base_uri": "https://localhost:8080/"
        },
        "outputId": "1b1b971b-ae39-4d9a-ccda-532f9574e962"
      },
      "execution_count": 14,
      "outputs": [
        {
          "output_type": "execute_result",
          "data": {
            "text/plain": [
              "array([0.15872278, 0.68010884, 0.16116839])"
            ]
          },
          "metadata": {},
          "execution_count": 14
        }
      ]
    },
    {
      "cell_type": "markdown",
      "source": [
        "#**정리 - 히스토그램 기반 그레디언트 부스팅**\n",
        " - 히스토그램 기반 그레디언트 부스팅 : 특성을 256개 구간으로 나눈다. \n",
        " - 256개 구간중 하나를 떼어놓고 누락된 값을 위해서 사용한다"
      ],
      "metadata": {
        "id": "BSdnXqUtcyEZ"
      }
    },
    {
      "cell_type": "code",
      "source": [
        "from sklearn.experimental import enable_hist_gradient_boosting\n",
        "from sklearn.ensemble import HistGradientBoostingClassifier\n",
        "hgb = HistGradientBoostingClassifier(random_state=42)\n",
        "scores = cross_validate(hgb, train_input, train_target, return_train_score = True)\n",
        "\n",
        "np.mean(scores['train_score']) # 0.9321723946453317\n",
        "np.mean(scores['test_score']) # 0.8801241948619236\n",
        "#과대적합을 잘 억제하면서 그레디언트 부스팅보다 조금 더 높은 성능을 제공\n",
        "\n",
        "from sklearn.inspection import permutation_importance\n",
        "\n",
        "hgb.fit(train_input,train_target)\n",
        "result = permutation_importance(hgb,train_input,train_target,random_state=42,n_jobs=-1,n_repeats=10)\n",
        "#훈련세트 특성 중요도\n",
        "result.importances_mean #[0.08876275, 0.23438522, 0.08027708] ==> 당도에 집중하고 있구나\n",
        "\n",
        "result = permutation_importance(hgb,test_input,test_target,random_state=42,n_jobs=-1,n_repeats=10)\\\n",
        "#테스트세트 특성 중요도\n",
        "result.importances_mean #[0.05969231, 0.20238462, 0.049] ==> 조금더 당도에 집중하고 있구나\n",
        "\n",
        "hgb.score(test_input,test_target) #0.8723076923076923"
      ],
      "metadata": {
        "id": "ld_yybfuQe1W"
      },
      "execution_count": null,
      "outputs": []
    },
    {
      "cell_type": "code",
      "source": [
        "#XGBoost 가보자 가보자\n",
        "from xgboost import XGBClassifier\n",
        "xgb = XGBClassifier(tree_method = 'hist',random_state=42)\n",
        "scores = cross_validate(xgb,train_input,train_target,return_train_score=True)\n",
        "np.mean(scores['train_score'])   #0.8824322471423747\n",
        "np.mean(scores['test_score'])    #0.8726214185237284\n",
        "\n",
        "#LightGBM 가보자 가보자\n",
        "from lightgbm import LGBMClassifier\n",
        "lgb = LGBMClassifier(random_state=42)\n",
        "scores = cross_validate(lgb,train_input,train_target,return_train_score=True,n_jobs=-1)\n",
        "np.mean(scores['train_score']) #0.9338079582727165\n",
        "np.mean(scores['test_score']) #0.8789710890649293"
      ],
      "metadata": {
        "colab": {
          "base_uri": "https://localhost:8080/"
        },
        "id": "iEJILDqxZBA9",
        "outputId": "4ede57e2-8bcf-4ccf-ca9a-0c9f3fe8bfa3"
      },
      "execution_count": 32,
      "outputs": [
        {
          "output_type": "execute_result",
          "data": {
            "text/plain": [
              "0.8789710890649293"
            ]
          },
          "metadata": {},
          "execution_count": 32
        }
      ]
    }
  ]
}