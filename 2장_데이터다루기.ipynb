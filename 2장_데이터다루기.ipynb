{
  "nbformat": 4,
  "nbformat_minor": 0,
  "metadata": {
    "colab": {
      "provenance": [],
      "toc_visible": true,
      "authorship_tag": "ABX9TyO8dFiers6JrRHi0B+UFAmO",
      "include_colab_link": true
    },
    "kernelspec": {
      "name": "python3",
      "display_name": "Python 3"
    },
    "language_info": {
      "name": "python"
    }
  },
  "cells": [
    {
      "cell_type": "markdown",
      "metadata": {
        "id": "view-in-github",
        "colab_type": "text"
      },
      "source": [
        "<a href=\"https://colab.research.google.com/github/yooseungjun/ML/blob/main/2%EC%9E%A5_%EB%8D%B0%EC%9D%B4%ED%84%B0%EB%8B%A4%EB%A3%A8%EA%B8%B0.ipynb\" target=\"_parent\"><img src=\"https://colab.research.google.com/assets/colab-badge.svg\" alt=\"Open In Colab\"/></a>"
      ]
    },
    {
      "cell_type": "markdown",
      "source": [
        "#**02-1 훈련 세트와 테스트 세트**"
      ],
      "metadata": {
        "id": "oFynfKcov0at"
      }
    },
    {
      "cell_type": "markdown",
      "source": [
        " ## **정보** - **지도학습** vs **비지도학습**\n",
        "  1. **지도학습** - 정답(타깃)을 제공하고 학습시킨다.\n",
        "     - ex) 도미 or 빙어 => **KNeighborsClassifier는 지도학습**\n",
        "  2. **비지도학습** - 타깃 없이 입력데이터만 사용한다. \n",
        "     - 정답을 사용하지 않아 맞힐수 없다\n",
        "     - 데이터 파악, 변형에 좋다.\n",
        "\n",
        "\n",
        "-**지도학습(Supervised Learning)**예시 - 회귀, 분류 등\n",
        "  - 분류(Classification)\n",
        "   - kNN\n",
        "   - Naive Bayes\n",
        "   - Support Vector\n",
        "   - Machine Decision\n",
        "  - 회귀(Regression)\n",
        "   - Linear Regression\n",
        "   - Locally Weighted Linear\n",
        "   - Lasso\n",
        "   - Ridge\n",
        "\n",
        "\n",
        "-**비지도학습(Unsupervised Learning)**예시 - 군집, 시각화, 차원축소, 연관분석 등\n",
        "\n",
        " - 군집(Clustering)\n",
        "  - K-평균(k-Means)\n",
        "  - 계층 군집 분석(HCA, Hierarchical Cluster Analysis)\n",
        "  - 기댓값 최대화(Expectation Maximization)\n",
        "\n",
        " - 시각화(Visualization)와 차원 축소(Dimensionality Reduction)\n",
        "    - 주성분 분석(PCA, Principal Component Analysis)\n",
        "    - 커널 PCA(Kernel PCA)\n",
        "    - 지역적 선형 임베딩(LLE, Locally-Linear Embedding)\n",
        "    - t-SNE(t-distributed Stochastic Neighbor Embedding)\n",
        "\n",
        " - 연관 규칙 학습(Association Rule Learning)\n",
        "  - 어프라이어리(Apriori)\n",
        "  - 이클렛(Eclat)"
      ],
      "metadata": {
        "id": "iYX64IXgIU1m"
      }
    },
    {
      "cell_type": "code",
      "source": [
        "#도미&빙어 데이터 출처 => bit.ly/bream_smelt\n",
        "fish_length = [25.4, 26.3, 26.5, 29.0, 29.0, 29.7, 29.7, 30.0, 30.0, 30.7, 31.0, 31.0, \n",
        "                31.5, 32.0, 32.0, 32.0, 33.0, 33.0, 33.5, 33.5, 34.0, 34.0, 34.5, 35.0, \n",
        "                35.0, 35.0, 35.0, 36.0, 36.0, 37.0, 38.5, 38.5, 39.5, 41.0, 41.0, 9.8, \n",
        "                10.5, 10.6, 11.0, 11.2, 11.3, 11.8, 11.8, 12.0, 12.2, 12.4, 13.0, 14.3, 15.0]\n",
        "fish_weight = [242.0, 290.0, 340.0, 363.0, 430.0, 450.0, 500.0, 390.0, 450.0, 500.0, 475.0, 500.0, \n",
        "                500.0, 340.0, 600.0, 600.0, 700.0, 700.0, 610.0, 650.0, 575.0, 685.0, 620.0, 680.0, \n",
        "                700.0, 725.0, 720.0, 714.0, 850.0, 1000.0, 920.0, 955.0, 925.0, 975.0, 950.0, 6.7, \n",
        "                7.5, 7.0, 9.7, 9.8, 8.7, 10.0, 9.9, 9.8, 12.2, 13.4, 12.2, 19.7, 19.9]\n",
        "\n",
        "fish_data = [ [l,w] for l,w in zip(fish_length,fish_weight) ] #리스트내포 구문(2차원 배열로 들어간다)\n",
        "fish_target = [1]*35 + [0]*14 #타겟 리스트 만들기 (1==도미 / 0==빙어)\n",
        "\n",
        "from sklearn.neighbors import KNeighborsClassifier\n",
        "kn = KNeighborsClassifier()\n",
        "\n",
        "#fish_data 49개원소 = 35도미 + 14빙어\n",
        "print(fish_data[0:5]) #0~4까지 5개 원소만 pick\n",
        "print(fish_data[:5]) #0:5와 같은 표현(0 생략)\n",
        "print(fish_data[44:]) #44~48까지 5개원소만 pick (44:49와 동일한 표현)\n",
        "\n",
        "train_input = fish_data[:35]\n",
        "train_target = fish_target[:35]\n",
        "test_input = fish_data[35:]\n",
        "test_target = fish_target[35:]\n",
        "\n",
        "\n",
        "kn.fit(train_input,train_target)\n",
        "kn.score(test_input,test_target) #0 나온다\n",
        "#잘못된 훈련+테스트\n",
        "#테이터를 섞지않았다\n",
        "#도미만 학습 => 빙어로 테스트\n",
        "#샘플링 편향(sampling bias)\n",
        "\n",
        "import numpy as np\n",
        "#파이썬 리스트를 넘파이 배열로 바꿔주기\n",
        "input_arr = np.array(fish_data) \n",
        "target_arr = np.array(fish_target)\n",
        "\n",
        "#(샘플수, 특성수)출력 \n",
        "print(input_arr.shape) #(49,2)\n"
      ],
      "metadata": {
        "id": "8DJS7hiKDUrN"
      },
      "execution_count": null,
      "outputs": []
    },
    {
      "cell_type": "code",
      "source": [
        "import numpy as np\n",
        "#파이썬 리스트를 넘파이 배열로 바꿔주기\n",
        "input_arr = np.array(fish_data) \n",
        "target_arr = np.array(fish_target)\n",
        "\n",
        "#(샘플수, 특성수)출력 \n",
        "print(input_arr.shape) #(49,2)\n",
        "np.random.seed(42) #일정한 결과 얻기위해 책과 동일하게 42설정\n",
        "index = np.arange(49) #0부터 48까지 1씩 증가하는 인덱스 만들기\n",
        "np.random.shuffle(index) #배열을 무작위로 섞는다\n",
        "# print(index)\n",
        "# print(input_arr[[1,3]]) # 한번의 여러개 원소를 선택\n",
        "\n",
        "# 훈련데이터 - 49개 랜덤하게 들어간 index배열 앞 35개를 input_arr에서\n",
        "train_input = input_arr[index[:35]] # index[0] == 13 //  input_arr[13]== train_input[0]\n",
        "train_target = target_arr[index[:35]]\n",
        "#테스트데이터 \n",
        "test_input = input_arr[index[35:]]\n",
        "test_target = target_arr[index[35:]]\n",
        "\n",
        "import matplotlib.pyplot as plt\n",
        "plt.scatter(train_input[:,0], train_input[:,1])\n",
        "plt.scatter(test_input[:,0], test_input[:,1])\n",
        "plt.xlabel('length')\n",
        "plt.ylabel('weight')\n",
        "plt.show()\n",
        "\n",
        "kn.fit(train_input,train_target)\n",
        "kn.score(test_input,test_target)"
      ],
      "metadata": {
        "colab": {
          "base_uri": "https://localhost:8080/",
          "height": 316
        },
        "id": "XtNRVhvq3xKZ",
        "outputId": "8874d174-7b4c-463a-a723-5491279817f7"
      },
      "execution_count": null,
      "outputs": [
        {
          "output_type": "stream",
          "name": "stdout",
          "text": [
            "(49, 2)\n"
          ]
        },
        {
          "output_type": "display_data",
          "data": {
            "text/plain": [
              "<Figure size 432x288 with 1 Axes>"
            ],
            "image/png": "[encoded data removed]"
          },
          "metadata": {
            "needs_background": "light"
          }
        },
        {
          "output_type": "execute_result",
          "data": {
            "text/plain": [
              "1.0"
            ]
          },
          "metadata": {},
          "execution_count": 68
        }
      ]
    },
    {
      "cell_type": "markdown",
      "source": [
        "##**정보** - **Numpy List** vs **Python List** \n",
        "1. 선언\n",
        " * 넘파이 array는 숫자와 문자 섞이면 다 문자로 취급한다.\n",
        "```\n",
        "    a = [1, 3, 5, 'a', 'b'] # 1, 3, 5는 숫자형, 'a', 'b'는 문자열\n",
        "    b = np.array([1, 3, 5, 'a', 'b']) # '1', '3', '5', 'a', 'b'의 문자열로 전환\n",
        "```\n",
        " * 내부 배열내 원소의 개수가 같아야 한다.\n",
        "```\n",
        "    a = [[1], [3, 5], [2, 4, 6]] # 문제 X\n",
        "    b = np.array([[1], [3, 5], [2, 4, 6]]) # 개수가 달라서 array 선언 불가능\n",
        "    # array([list([1]), list([3, 5]), list([2, 4, 6])], dtype=object)\n",
        "```\n",
        "2. 연산\n",
        " * 파이썬 리스트는 덧셈 수행시 concatenation수행\n",
        "```\n",
        "    # 리스트 연산\n",
        "\n",
        "    a = [1, 3, 5]\n",
        "    b = [2, 4, 6]\n",
        "\n",
        "    a + b # [1, 3, 5, 2, 4, 6]\n",
        "\n",
        "    # 허용하지 않음 : a - b, a * b, a / b\n",
        "\n",
        "    a * 3 # [1, 3, 5, 1, 3, 5, 1, 3, 5]\n",
        "```\n",
        "\n",
        "  * 넘파이 리스트는 덧셈 수행시 항목간의 덧셈 수행\n",
        "```\n",
        "    # 넘파이 어레이 연산\n",
        "\n",
        "    a = np.array([1, 3, 5])\n",
        "    b = np.array([2, 4, 6])\n",
        "\n",
        "    a + b # array([ 3,  7, 11])\n",
        "    a * b # array([ 2, 12, 30])\n",
        "\n",
        "    a + 2 # array([3, 5, 7])\n",
        "    a * 3 # array([ 3,  9, 15])\n",
        "```\n",
        "3. 함수\n",
        " * 파이썬에서는 함수(리스트), 넘파이에서는 리스트.함수()로 사용가능\n",
        "```\n",
        "    a = [1, 3, 5]\n",
        "    b = np.array([1, 3, 5])\n",
        "\n",
        "    # 리스트 메소드(b.append(7) 등은 불가능)\n",
        "    a.append(7)\n",
        "    a.extend([9])\n",
        "    a.remove(9)\n",
        "\n",
        "    # 어레이 메소드(a.mean() 등은 불가능)\n",
        "    b.mean()\n",
        "    b.argmax()\n",
        "    b.round()\n",
        "```\n",
        "4. 연산속도\n",
        " * 넘파이가 훨씬 빠르다.(10배이상)\n"
      ],
      "metadata": {
        "id": "EOSYxpwGyE0E"
      }
    },
    {
      "cell_type": "markdown",
      "source": [
        "#**02-2 데이터 전처리**"
      ],
      "metadata": {
        "id": "_BtbN933vyGz"
      }
    },
    {
      "cell_type": "code",
      "source": [
        "fish_length = [25.4, 26.3, 26.5, 29.0, 29.0, 29.7, 29.7, 30.0, 30.0, 30.7, 31.0, 31.0, \n",
        "                31.5, 32.0, 32.0, 32.0, 33.0, 33.0, 33.5, 33.5, 34.0, 34.0, 34.5, 35.0, \n",
        "                35.0, 35.0, 35.0, 36.0, 36.0, 37.0, 38.5, 38.5, 39.5, 41.0, 41.0, 9.8, \n",
        "                10.5, 10.6, 11.0, 11.2, 11.3, 11.8, 11.8, 12.0, 12.2, 12.4, 13.0, 14.3, 15.0]\n",
        "fish_weight = [242.0, 290.0, 340.0, 363.0, 430.0, 450.0, 500.0, 390.0, 450.0, 500.0, 475.0, 500.0, \n",
        "                500.0, 340.0, 600.0, 600.0, 700.0, 700.0, 610.0, 650.0, 575.0, 685.0, 620.0, 680.0, \n",
        "                700.0, 725.0, 720.0, 714.0, 850.0, 1000.0, 920.0, 955.0, 925.0, 975.0, 950.0, 6.7, \n",
        "                7.5, 7.0, 9.7, 9.8, 8.7, 10.0, 9.9, 9.8, 12.2, 13.4, 12.2, 19.7, 19.9]\n",
        "import numpy as np\n",
        "np.column_stack(([1,2,3],[4,5,6])) #column_stack() 전달받은 리스트를 일렬로 세운다음 차례대로 나란히 연결(튜플로 전달)\n",
        "\n",
        "#데이터 준비하기 - 이전에 사용하던 방법\n",
        "#fish_data = [ [l,w] for l,w in zip(fish_length,fish_weight) ] #리스트내포 구문(2차원 배열로 들어간다)\n",
        "#다르게 사용할 방법\n",
        "fish_data = np.column_stack((fish_length,fish_weight))\n",
        "\n",
        "#타겟데이터 준비하기 - 이전에 사용하던 방법\n",
        "#fish_target = [1]*35 + [0]*14 #타겟 리스트 만들기 (1==도미 / 0==빙어)\n",
        "#다르게 사용할 방법\n",
        "fish_target = np.concatenate((np.ones(35),np.zeros(14)))\n",
        "\n",
        "#사이킷런으로 훈련세트와 테스트세트 나누기 - train_test_split()\n",
        "#fish_data => train_input \n",
        "#             test_input\n",
        "#fish_target => train_target\n",
        "#               test_target\n",
        "\n",
        "from sklearn.model_selection import train_test_split\n",
        "train_input , test_input, train_target, test_target = train_test_split(\n",
        "    fish_data,fish_target,random_state = 42\n",
        ")\n",
        "\n",
        "print(train_input.shape, test_input.shape) # (36,2) (13,2)\n",
        "print(train_target.shape, test_target.shape) #(36, ) (13, )\n",
        "print(test_target) # 1 0 0 0 1 1 1 1 1 1 1 1 1 \n",
        "#(3.3 : 1 ) => (2.5 : 1)원함\n",
        "#train_test_split()함수 인자중에서 stratify매개변수에 타겟데이터 넣어준다.\n",
        "train_input, test_input, train_target, test_target = train_test_split(\n",
        "  fish_data, fish_target, random_state = 42, stratify=fish_target\n",
        ")\n",
        "\n",
        "from sklearn.neighbors import KNeighborsClassifier\n",
        "kn = KNeighborsClassifier()\n",
        "kn.fit(train_input,train_target)\n",
        "kn.score(test_input,test_target)\n",
        "kn.predict([[25,150]]) \n",
        "#어라라? 도미인데 왜 빙어로 예측하지? => 기준이 달라서\n",
        "#x축은 단위가 5씩 증가하지만 y축은 단위가 200이다\n",
        "\n",
        "\n",
        "distance, indexes = kn.kneighbors([[25,150]])\n",
        "plt.scatter(train_input[:,0],train_input[:,1])\n",
        "plt.scatter(25,150,marker='o')\n",
        "plt.scatter(train_input[indexes,0], train_input[indexes,1],marker='D')\n",
        "plt.xlabel('length')\n",
        "plt.ylabel('weight')\n",
        "plt.show()\n",
        "\n",
        "#x거리 y거리 다르다 => 전처리 필요(스케일 맞추자 - 정규분포~)\n",
        "mean = np.mean(train_input,axis=0)\n",
        "std = np.std(train_input,axis=0)\n",
        "print(mean,std)\n",
        "\n",
        "train_scaled = (train_input - mean) / std\n",
        "test_scaled = (test_input - mean) / std\n",
        "plt.scatter(train_scaled[:,0], train_scaled[:,1])\n",
        "plt.scatter(20,150,marker = '^')\n",
        "plt.xlabel('length')\n",
        "plt.ylabel('weight')\n",
        "plt.show()\n",
        "\n",
        "new = ([25,150]-mean) / std\n",
        "plt.scatter(train_scaled[:,0],train_scaled[:,1])\n",
        "plt.scatter(new[0],new[1],marker='^')\n",
        "plt.xlabel('length')\n",
        "plt.ylabel('weight')\n",
        "plt.show()\n",
        " \n",
        "kn.fit(train_scaled, train_target)\n",
        "kn.score(test_scaled, test_target)\n",
        "\n",
        "distance, indexes = kn.kneighbors([new])\n",
        "plt.scatter(train_scaled[:,0],train_scaled[:,1])\n",
        "plt.scatter(new[0],new[1],marker='^')\n",
        "plt.scatter(train_scaled[indexes,0],train_scaled[indexes,1],marker='D')\n",
        "plt.xlabel('length')\n",
        "plt.ylabel('weight')\n",
        "plt.show()\n",
        " \n"
      ],
      "metadata": {
        "colab": {
          "base_uri": "https://localhost:8080/",
          "height": 1000
        },
        "id": "6VUOIuyNH7ij",
        "outputId": "7b7ca74d-0199-48b1-9e13-613729cd7b1d"
      },
      "execution_count": null,
      "outputs": [
        {
          "output_type": "stream",
          "name": "stdout",
          "text": [
            "(36, 2) (13, 2)\n",
            "(36,) (13,)\n",
            "[1. 0. 0. 0. 1. 1. 1. 1. 1. 1. 1. 1. 1.]\n"
          ]
        },
        {
          "output_type": "display_data",
          "data": {
            "text/plain": [
              "<Figure size 432x288 with 1 Axes>"
            ],
            "image/png": "[encoded data removed]"
          },
          "metadata": {
            "needs_background": "light"
          }
        },
        {
          "output_type": "stream",
          "name": "stdout",
          "text": [
            "[ 27.29722222 454.09722222] [  9.98244253 323.29893931]\n"
          ]
        },
        {
          "output_type": "display_data",
          "data": {
            "text/plain": [
              "<Figure size 432x288 with 1 Axes>"
            ],
            "image/png": "[encoded data removed]"
          },
          "metadata": {
            "needs_background": "light"
          }
        },
        {
          "output_type": "display_data",
          "data": {
            "text/plain": [
              "<Figure size 432x288 with 1 Axes>"
            ],
            "image/png": "[encoded data removed]"
          },
          "metadata": {
            "needs_background": "light"
          }
        },
        {
          "output_type": "display_data",
          "data": {
            "text/plain": [
              "<Figure size 432x288 with 1 Axes>"
            ],
            "image/png": "[encoded data removed]"
          },
          "metadata": {
            "needs_background": "light"
          }
        }
      ]
    },
    {
      "cell_type": "markdown",
      "source": [],
      "metadata": {
        "id": "LXXn0qRmegG9"
      }
    }
  ]
}