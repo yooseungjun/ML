{
  "nbformat": 4,
  "nbformat_minor": 0,
  "metadata": {
    "colab": {
      "provenance": [],
      "toc_visible": true,
      "authorship_tag": "ABX9TyP3W3zDjCO/MOU0NERuiC+c",
      "include_colab_link": true
    },
    "kernelspec": {
      "name": "python3",
      "display_name": "Python 3"
    },
    "language_info": {
      "name": "python"
    }
  },
  "cells": [
    {
      "cell_type": "markdown",
      "metadata": {
        "id": "view-in-github",
        "colab_type": "text"
      },
      "source": [
        "<a href=\"https://colab.research.google.com/github/yooseungjun/ML/blob/main/3%EC%9E%A5_%ED%9A%8C%EA%B7%80_%EC%95%8C%EA%B3%A0%EB%A6%AC%EC%A6%98%EA%B3%BC_%EB%AA%A8%EB%8D%B8_%EA%B7%9C%EC%A0%9C.ipynb\" target=\"_parent\"><img src=\"https://colab.research.google.com/assets/colab-badge.svg\" alt=\"Open In Colab\"/></a>"
      ]
    },
    {
      "cell_type": "markdown",
      "source": [
        "#**03-1 K-최근접 이웃 회귀**"
      ],
      "metadata": {
        "id": "ozh5iD8gnmhC"
      }
    },
    {
      "cell_type": "markdown",
      "source": [
        "# **정보**\n",
        "-**지도학습 알고리즘** : 회귀 + 분류\n",
        " - 분류 : 샘플을 몇개의 클래스 중 하나로 분류하는 것\n",
        " - 회귀 : 분류하는 것이 아니라 임의의 어떤 숫자를 예측하는 것   \n",
        "\n",
        "-**KNN(K-Nearest Neighbor) 알고리즘**\n",
        " - KNN 분류\n",
        " - KNN 회귀"
      ],
      "metadata": {
        "id": "oohWbEScoE6_"
      }
    },
    {
      "cell_type": "code",
      "source": [
        "import numpy as np\n",
        "perch_length = np.array([8.4, 13.7, 15.0, 16.2, 17.4, 18.0, 18.7, 19.0, 19.6, 20.0, 21.0,\n",
        "       21.0, 21.0, 21.3, 22.0, 22.0, 22.0, 22.0, 22.0, 22.5, 22.5, 22.7,\n",
        "       23.0, 23.5, 24.0, 24.0, 24.6, 25.0, 25.6, 26.5, 27.3, 27.5, 27.5,\n",
        "       27.5, 28.0, 28.7, 30.0, 32.8, 34.5, 35.0, 36.5, 36.0, 37.0, 37.0,\n",
        "       39.0, 39.0, 39.0, 40.0, 40.0, 40.0, 40.0, 42.0, 43.0, 43.0, 43.5,\n",
        "       44.0])\n",
        "perch_weight = np.array([5.9, 32.0, 40.0, 51.5, 70.0, 100.0, 78.0, 80.0, 85.0, 85.0, 110.0,\n",
        "       115.0, 125.0, 130.0, 120.0, 120.0, 130.0, 135.0, 110.0, 130.0,\n",
        "       150.0, 145.0, 150.0, 170.0, 225.0, 145.0, 188.0, 180.0, 197.0,\n",
        "       218.0, 300.0, 260.0, 265.0, 250.0, 250.0, 300.0, 320.0, 514.0,\n",
        "       556.0, 840.0, 685.0, 700.0, 700.0, 690.0, 900.0, 650.0, 820.0,\n",
        "       850.0, 900.0, 1015.0, 820.0, 1100.0, 1000.0, 1100.0, 1000.0,\n",
        "       1000.0])\n",
        "\n",
        "import matplotlib.pyplot as plt\n",
        "\n",
        "\"\"\"농어의 길이만 점찍어서 관찰해보기\"\"\"\n",
        "plt.scatter(perch_length,perch_weight)\n",
        "plt.xlabel('length')\n",
        "plt.ylabel('weight')\n",
        "plt.show()\n",
        "\"\"\"--------------------------------\"\"\"\n",
        "\n",
        "from sklearn.model_selection import train_test_split\n",
        "train_input, test_input, train_target, test_target = train_test_split(perch_length, perch_weight, random_state=42)"
      ],
      "metadata": {
        "colab": {
          "base_uri": "https://localhost:8080/",
          "height": 297
        },
        "id": "KlySfYGWnv0q",
        "outputId": "b490a734-4b05-449a-c4b7-ee0960c09fac"
      },
      "execution_count": 8,
      "outputs": [
        {
          "output_type": "display_data",
          "data": {
            "text/plain": [
              "<Figure size 432x288 with 1 Axes>"
            ],
            "image/png": "[encoded data removed]"
          },
          "metadata": {
            "needs_background": "light"
          }
        },
        {
          "output_type": "stream",
          "name": "stdout",
          "text": [
            "(42,) (14,)\n"
          ]
        }
      ]
    },
    {
      "cell_type": "markdown",
      "source": [
        "```\n",
        "#사이킷런에 사용할 훈련 세트는 2차원 배열 이어야 한다.\n",
        "test_array = np.array([1,2,3,4])\n",
        "print(test_array.shape) # (4,)\n",
        "test_array = test_array.reshape(2,2)\n",
        "print(test_array.shape) # (2,2)\n",
        "\n",
        "#reshape()매서드는 지정한 크기가 원본 배열에 있는 원소의 개수와 다르면 에러\n",
        "#(4,)인 배열을 (2,3)으로 만들려고 하면 오류발생\n",
        "test_array = test_array.reshape(2,3) #ValueError: cannot reshape ~\n",
        "\n",
        "#reshape()함수에 그기를 -1로 지정 -> 나머지 원소 개수로 모두 채우겠다는 의미\n",
        "np.array([1,2,3,4]).shape # (4,)\n",
        "np.array([1,2,3,4]).reshape(-1,1) # (4,1)\n",
        "```\n",
        "\n"
      ],
      "metadata": {
        "id": "QOtIdLbHITfP"
      }
    },
    {
      "cell_type": "code",
      "source": [
        "#훈련,테스트 데이터들 2차원 배열로 설정\n",
        "print(train_input.shape, test_input.shape) # (42,) (14,)\n",
        "train_input = train_input.reshape(-1,1)\n",
        "test_input = test_input.reshape(-1,1)\n",
        "print(train_input.shape, test_input.shape) # (42,1) (14,1)"
      ],
      "metadata": {
        "colab": {
          "base_uri": "https://localhost:8080/"
        },
        "id": "HmVQOi-dJKYz",
        "outputId": "1aacefaa-fa0d-4d3d-e08e-15cd2ea542fb"
      },
      "execution_count": 13,
      "outputs": [
        {
          "output_type": "stream",
          "name": "stdout",
          "text": [
            "(42, 1) (14, 1)\n",
            "(42, 1) (14, 1)\n"
          ]
        }
      ]
    },
    {
      "cell_type": "code",
      "source": [
        "from sklearn.neighbors import KNeighborsRegressor\n",
        "\n",
        "knr = KNeighborsRegressor()\n",
        "knr.fit(train_input, train_target)\n",
        "knr.score(train_input, train_target) #결정계수 - 0.99280"
      ],
      "metadata": {
        "colab": {
          "base_uri": "https://localhost:8080/"
        },
        "id": "_mrPy-8OX_Yr",
        "outputId": "1fe353a4-f953-4c09-ac6e-eb4d2d15ef85"
      },
      "execution_count": 14,
      "outputs": [
        {
          "output_type": "execute_result",
          "data": {
            "text/plain": [
              "0.9698823289099254"
            ]
          },
          "metadata": {},
          "execution_count": 14
        }
      ]
    },
    {
      "cell_type": "markdown",
      "source": [
        "#**정리** - **결정 계수**\n",
        "score()함수 의미\n",
        " - 분류 : 정확도(테스트세트에 있는 샘플을 정확하게 분류한 개수 비율)\n",
        "\n",
        " - 회귀 : 결정계수($R^{2}$)\n",
        "  - 범위 : 0 ~ 1\n",
        "  - 1에 가까워질 수록 예측이 타겟에 가깝다\n",
        "  - 0에 가까워질 수록 예측이 타겟의 평균에 가깝다  \n",
        "  - 상관계수는 상관관계를 나타낸 것으로 (-1 ~ 1)값을 갖는다"
      ],
      "metadata": {
        "id": "arDeYyd_OaW9"
      }
    },
    {
      "cell_type": "code",
      "source": [
        "from sklearn.metrics import mean_absolute_error\n",
        "\n",
        "#테스트 세트에 대한 예측 만들기\n",
        "test_prediction = knr.predict(test_input)\n",
        "\n",
        "#테스트 세트에 대한 평균 절댓값 오차를 계산한다\n",
        "mae = mean_absolute_error(test_target, test_prediction)\n",
        "print(mae)"
      ],
      "metadata": {
        "colab": {
          "base_uri": "https://localhost:8080/"
        },
        "id": "dWCsbZnUUyju",
        "outputId": "aa2c2aa2-3d86-4637-d9b1-48be0cec7f43"
      },
      "execution_count": 15,
      "outputs": [
        {
          "output_type": "stream",
          "name": "stdout",
          "text": [
            "19.157142857142862\n"
          ]
        }
      ]
    },
    {
      "cell_type": "code",
      "source": [
        "print(knr.score(train_input,train_target)) #훈련\n",
        "print(knr.score(test_input, test_target)) #테스트"
      ],
      "metadata": {
        "colab": {
          "base_uri": "https://localhost:8080/"
        },
        "id": "TRr_f72ZZ46P",
        "outputId": "9cd357c4-b081-4420-bf18-b0fef8f905f8"
      },
      "execution_count": 16,
      "outputs": [
        {
          "output_type": "stream",
          "name": "stdout",
          "text": [
            "0.9698823289099254\n",
            "0.992809406101064\n"
          ]
        }
      ]
    },
    {
      "cell_type": "markdown",
      "source": [
        "#**정리 - 과대적합 vs 과소적합**\n",
        " - 과대적합 : 훈련에서 점수가 좋았는데 테스트에서는 점수가 낮게나옴\n",
        " - 과소적합 : 훈련보다 테스트의 점수가 높거나 두 점수가 모두 낮은 경우\n",
        " - ex) 훈련:0.96  테스트:0.99  => 테스트에서 더 높으므로 과소적합"
      ],
      "metadata": {
        "id": "gLfsH1W5Y-N2"
      }
    },
    {
      "cell_type": "code",
      "source": [
        "#이웃의 개수 3개로 설정\n",
        "knr.n_neighbors = 3\n",
        "\n",
        "#모델 다시 훈련\n",
        "knr.fit(train_input,train_target)\n",
        "knr.score(test_input,test_target) \n",
        "#0.9746  -> 훈련세트의 결정계수 증가"
      ],
      "metadata": {
        "id": "XuBDHrl_Zvmi"
      },
      "execution_count": null,
      "outputs": []
    }
  ]
}