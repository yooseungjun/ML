{
  "nbformat": 4,
  "nbformat_minor": 0,
  "metadata": {
    "colab": {
      "provenance": [],
      "toc_visible": true,
      "authorship_tag": "ABX9TyPSjbve+G/a6JH1ZHq8acKc",
      "include_colab_link": true
    },
    "kernelspec": {
      "name": "python3",
      "display_name": "Python 3"
    },
    "language_info": {
      "name": "python"
    }
  },
  "cells": [
    {
      "cell_type": "markdown",
      "metadata": {
        "id": "view-in-github",
        "colab_type": "text"
      },
      "source": [
        "<a href=\"https://colab.research.google.com/github/yooseungjun/ML/blob/main/3%EC%9E%A5_%ED%9A%8C%EA%B7%80_%EC%95%8C%EA%B3%A0%EB%A6%AC%EC%A6%98%EA%B3%BC_%EB%AA%A8%EB%8D%B8_%EA%B7%9C%EC%A0%9C.ipynb\" target=\"_parent\"><img src=\"https://colab.research.google.com/assets/colab-badge.svg\" alt=\"Open In Colab\"/></a>"
      ]
    },
    {
      "cell_type": "markdown",
      "source": [
        "#**03-1 K-최근접 이웃 회귀**"
      ],
      "metadata": {
        "id": "ozh5iD8gnmhC"
      }
    },
    {
      "cell_type": "markdown",
      "source": [
        "# **정보** - **지도학습 알고리즘**\n",
        "-**지도학습 알고리즘** : 회귀 + 분류\n",
        " - 분류 : 샘플을 몇개의 클래스 중 하나로 분류하는 것\n",
        " - 회귀 : 분류하는 것이 아니라 임의의 어떤 숫자를 예측하는 것   \n",
        "\n",
        "-**KNN(K-Nearest Neighbor) 알고리즘**\n",
        " - KNN 분류\n",
        " - KNN 회귀"
      ],
      "metadata": {
        "id": "oohWbEScoE6_"
      }
    },
    {
      "cell_type": "code",
      "source": [
        "import numpy as np\n",
        "perch_length = np.array([8.4, 13.7, 15.0, 16.2, 17.4, 18.0, 18.7, 19.0, 19.6, 20.0, 21.0,\n",
        "       21.0, 21.0, 21.3, 22.0, 22.0, 22.0, 22.0, 22.0, 22.5, 22.5, 22.7,\n",
        "       23.0, 23.5, 24.0, 24.0, 24.6, 25.0, 25.6, 26.5, 27.3, 27.5, 27.5,\n",
        "       27.5, 28.0, 28.7, 30.0, 32.8, 34.5, 35.0, 36.5, 36.0, 37.0, 37.0,\n",
        "       39.0, 39.0, 39.0, 40.0, 40.0, 40.0, 40.0, 42.0, 43.0, 43.0, 43.5,\n",
        "       44.0])\n",
        "perch_weight = np.array([5.9, 32.0, 40.0, 51.5, 70.0, 100.0, 78.0, 80.0, 85.0, 85.0, 110.0,\n",
        "       115.0, 125.0, 130.0, 120.0, 120.0, 130.0, 135.0, 110.0, 130.0,\n",
        "       150.0, 145.0, 150.0, 170.0, 225.0, 145.0, 188.0, 180.0, 197.0,\n",
        "       218.0, 300.0, 260.0, 265.0, 250.0, 250.0, 300.0, 320.0, 514.0,\n",
        "       556.0, 840.0, 685.0, 700.0, 700.0, 690.0, 900.0, 650.0, 820.0,\n",
        "       850.0, 900.0, 1015.0, 820.0, 1100.0, 1000.0, 1100.0, 1000.0,\n",
        "       1000.0])\n",
        "\n",
        "import matplotlib.pyplot as plt\n",
        "\n",
        "\"\"\"농어의 길이만 점찍어서 관찰해보기\"\"\"\n",
        "plt.scatter(perch_length,perch_weight)\n",
        "plt.xlabel('length')\n",
        "plt.ylabel('weight')\n",
        "plt.show()\n",
        "\"\"\"--------------------------------\"\"\"\n",
        "\n",
        "from sklearn.model_selection import train_test_split\n",
        "train_input, test_input, train_target, test_target = train_test_split(perch_length, perch_weight, random_state=42)"
      ],
      "metadata": {
        "colab": {
          "base_uri": "https://localhost:8080/",
          "height": 279
        },
        "id": "KlySfYGWnv0q",
        "outputId": "b77b4dcc-3754-400e-ac5b-96abb1d12d85"
      },
      "execution_count": 3,
      "outputs": [
        {
          "output_type": "display_data",
          "data": {
            "text/plain": [
              "<Figure size 432x288 with 1 Axes>"
            ],
            "image/png": "[encoded data removed]"
          },
          "metadata": {
            "needs_background": "light"
          }
        }
      ]
    },
    {
      "cell_type": "markdown",
      "source": [
        "```\n",
        "#사이킷런에 사용할 훈련 세트는 2차원 배열 이어야 한다.\n",
        "test_array = np.array([1,2,3,4])\n",
        "print(test_array.shape) # (4,)\n",
        "test_array = test_array.reshape(2,2)\n",
        "print(test_array.shape) # (2,2)\n",
        "\n",
        "#reshape()매서드는 지정한 크기가 원본 배열에 있는 원소의 개수와 다르면 에러\n",
        "#(4,)인 배열을 (2,3)으로 만들려고 하면 오류발생\n",
        "test_array = test_array.reshape(2,3) #ValueError: cannot reshape ~\n",
        "\n",
        "#reshape()함수에 그기를 -1로 지정 -> 나머지 원소 개수로 모두 채우겠다는 의미\n",
        "np.array([1,2,3,4]).shape # (4,)\n",
        "np.array([1,2,3,4]).reshape(-1,1) # (4,1)\n",
        "```\n",
        "\n"
      ],
      "metadata": {
        "id": "QOtIdLbHITfP"
      }
    },
    {
      "cell_type": "code",
      "source": [
        "#훈련,테스트 데이터들 2차원 배열로 설정\n",
        "print(train_input.shape, test_input.shape) # (42,) (14,)\n",
        "train_input = train_input.reshape(-1,1)\n",
        "test_input = test_input.reshape(-1,1)\n",
        "print(train_input.shape, test_input.shape) # (42,1) (14,1)"
      ],
      "metadata": {
        "colab": {
          "base_uri": "https://localhost:8080/"
        },
        "id": "HmVQOi-dJKYz",
        "outputId": "377f26f6-ebf3-46e5-ef7b-c46b0bc83f2e"
      },
      "execution_count": 4,
      "outputs": [
        {
          "output_type": "stream",
          "name": "stdout",
          "text": [
            "(42,) (14,)\n",
            "(42, 1) (14, 1)\n"
          ]
        }
      ]
    },
    {
      "cell_type": "code",
      "source": [
        "from sklearn.neighbors import KNeighborsRegressor\n",
        "\n",
        "knr = KNeighborsRegressor()\n",
        "knr.fit(train_input, train_target)\n",
        "knr.score(train_input, train_target) #결정계수 - 0.99280"
      ],
      "metadata": {
        "colab": {
          "base_uri": "https://localhost:8080/"
        },
        "id": "_mrPy-8OX_Yr",
        "outputId": "5a5831e3-5689-4b36-affb-96ab2530bd8b"
      },
      "execution_count": 5,
      "outputs": [
        {
          "output_type": "execute_result",
          "data": {
            "text/plain": [
              "0.9698823289099254"
            ]
          },
          "metadata": {},
          "execution_count": 5
        }
      ]
    },
    {
      "cell_type": "markdown",
      "source": [
        "#**정리** - **결정 계수**\n",
        "score()함수 의미\n",
        " - 분류 : 정확도(테스트세트에 있는 샘플을 정확하게 분류한 개수 비율)\n",
        "\n",
        " - 회귀 : 결정계수($R^{2}$)\n",
        "  - 범위 : 0 ~ 1\n",
        "  - 1에 가까워질 수록 예측이 타겟에 가깝다\n",
        "  - 0에 가까워질 수록 예측이 타겟의 평균에 가깝다  \n",
        "  - 상관계수는 상관관계를 나타낸 것으로 (-1 ~ 1)값을 갖는다"
      ],
      "metadata": {
        "id": "arDeYyd_OaW9"
      }
    },
    {
      "cell_type": "code",
      "source": [
        "from sklearn.metrics import mean_absolute_error\n",
        "\n",
        "#테스트 세트에 대한 예측 만들기\n",
        "test_prediction = knr.predict(test_input)\n",
        "\n",
        "#테스트 세트에 대한 평균 절댓값 오차를 계산한다\n",
        "mae = mean_absolute_error(test_target, test_prediction)\n",
        "print(mae)"
      ],
      "metadata": {
        "colab": {
          "base_uri": "https://localhost:8080/"
        },
        "id": "dWCsbZnUUyju",
        "outputId": "b99f8f48-8d31-4452-92eb-c2c534e48f26"
      },
      "execution_count": 6,
      "outputs": [
        {
          "output_type": "stream",
          "name": "stdout",
          "text": [
            "19.157142857142862\n"
          ]
        }
      ]
    },
    {
      "cell_type": "code",
      "source": [
        "print(knr.score(train_input,train_target)) #훈련\n",
        "print(knr.score(test_input, test_target)) #테스트"
      ],
      "metadata": {
        "colab": {
          "base_uri": "https://localhost:8080/"
        },
        "id": "TRr_f72ZZ46P",
        "outputId": "a2f58bf7-bdfc-47e0-e054-bde5e94cc2ec"
      },
      "execution_count": 7,
      "outputs": [
        {
          "output_type": "stream",
          "name": "stdout",
          "text": [
            "0.9698823289099254\n",
            "0.992809406101064\n"
          ]
        }
      ]
    },
    {
      "cell_type": "markdown",
      "source": [
        "#**정리 - 과대적합 vs 과소적합**\n",
        " - 과대적합 : 훈련에서 점수가 좋았는데 테스트에서는 점수가 낮게나옴\n",
        " - 과소적합 : 훈련보다 테스트의 점수가 높거나 두 점수가 모두 낮은 경우\n",
        " - ex) 훈련:0.96  테스트:0.99  => 테스트에서 더 높으므로 과소적합"
      ],
      "metadata": {
        "id": "gLfsH1W5Y-N2"
      }
    },
    {
      "cell_type": "code",
      "source": [
        "#이웃의 개수 3개로 설정\n",
        "knr.n_neighbors = 3\n",
        "\n",
        "#모델 다시 훈련\n",
        "knr.fit(train_input,train_target)\n",
        "knr.score(test_input,test_target) \n",
        "#0.9746  -> 훈련세트의 결정계수 증가"
      ],
      "metadata": {
        "id": "XuBDHrl_Zvmi",
        "colab": {
          "base_uri": "https://localhost:8080/"
        },
        "outputId": "56b64762-b14c-418d-c54f-f00d3e0125d7"
      },
      "execution_count": 8,
      "outputs": [
        {
          "output_type": "execute_result",
          "data": {
            "text/plain": [
              "0.9746459963987609"
            ]
          },
          "metadata": {},
          "execution_count": 8
        }
      ]
    },
    {
      "cell_type": "markdown",
      "source": [
        "#확인문제\n",
        " - 과대, 과소적합 이해위해 복잡한 모델과 단순한 모델 생성\n",
        " - KNN회귀 모델의 k값을 1,5,10,으로 증가시키며 훈련\n",
        " - 농어의 길이를 5에서 45까지 바꿔가며 예측한 것을 그래프로 확인"
      ],
      "metadata": {
        "id": "Tn3kBHa6cxjI"
      }
    },
    {
      "cell_type": "code",
      "source": [
        "#k-최근접 이웃 회귀 객체 만들기\n",
        "from sklearn.neighbors import KNeighborsRegressor\n",
        "import numpy as np\n",
        "knr = KNeighborsRegressor()\n",
        "\n",
        "#5에서 45까지 x좌표를 만든다\n",
        "x = np.arange(5,45).reshape(-1,1)\n",
        "\n",
        "# n = 1, 5, 10일때 예측 결과를 그래프로 그리기\n",
        "for i in [1,5,10]:\n",
        "  knr.n_neighbors=i\n",
        "  knr.fit(train_input, train_target)\n",
        "  \n",
        "  #지정한 범위 x에 대한 예측 구하기\n",
        "  prediction = knr.predict(x)\n",
        "\n",
        "  #훈련세트,예측결과 그래프로 그리기\n",
        "  plt.scatter(train_input, train_target)\n",
        "  plt.plot(x , prediction)\n",
        "  plt.title(f'n_neighbors ={i}')\n",
        "  plt.xlabel('length')\n",
        "  plt.ylabel('weight')\n",
        "  plt.show()"
      ],
      "metadata": {
        "colab": {
          "base_uri": "https://localhost:8080/",
          "height": 851
        },
        "id": "tI1Kavz1cxIl",
        "outputId": "0caecc65-8faf-4d32-c36b-887df418070e"
      },
      "execution_count": 9,
      "outputs": [
        {
          "output_type": "display_data",
          "data": {
            "text/plain": [
              "<Figure size 432x288 with 1 Axes>"
            ],
            "image/png": "[encoded data removed]"
          },
          "metadata": {
            "needs_background": "light"
          }
        },
        {
          "output_type": "display_data",
          "data": {
            "text/plain": [
              "<Figure size 432x288 with 1 Axes>"
            ],
            "image/png": "[encoded data removed]"
          },
          "metadata": {
            "needs_background": "light"
          }
        },
        {
          "output_type": "display_data",
          "data": {
            "text/plain": [
              "<Figure size 432x288 with 1 Axes>"
            ],
            "image/png": "[encoded data removed]"
          },
          "metadata": {
            "needs_background": "light"
          }
        }
      ]
    },
    {
      "cell_type": "markdown",
      "source": [
        "#**03-2 선형 회귀**"
      ],
      "metadata": {
        "id": "KJgkTL0aD-O1"
      }
    },
    {
      "cell_type": "code",
      "source": [
        "import numpy as np\n",
        "perch_length = np.array([8.4, 13.7, 15.0, 16.2, 17.4, 18.0, 18.7, 19.0, 19.6, 20.0, 21.0,\n",
        "       21.0, 21.0, 21.3, 22.0, 22.0, 22.0, 22.0, 22.0, 22.5, 22.5, 22.7,\n",
        "       23.0, 23.5, 24.0, 24.0, 24.6, 25.0, 25.6, 26.5, 27.3, 27.5, 27.5,\n",
        "       27.5, 28.0, 28.7, 30.0, 32.8, 34.5, 35.0, 36.5, 36.0, 37.0, 37.0,\n",
        "       39.0, 39.0, 39.0, 40.0, 40.0, 40.0, 40.0, 42.0, 43.0, 43.0, 43.5,\n",
        "       44.0])\n",
        "perch_weight = np.array([5.9, 32.0, 40.0, 51.5, 70.0, 100.0, 78.0, 80.0, 85.0, 85.0, 110.0,\n",
        "       115.0, 125.0, 130.0, 120.0, 120.0, 130.0, 135.0, 110.0, 130.0,\n",
        "       150.0, 145.0, 150.0, 170.0, 225.0, 145.0, 188.0, 180.0, 197.0,\n",
        "       218.0, 300.0, 260.0, 265.0, 250.0, 250.0, 300.0, 320.0, 514.0,\n",
        "       556.0, 840.0, 685.0, 700.0, 700.0, 690.0, 900.0, 650.0, 820.0,\n",
        "       850.0, 900.0, 1015.0, 820.0, 1100.0, 1000.0, 1100.0, 1000.0,\n",
        "       1000.0])\n",
        "\n",
        "#훈련데이터와 테스트데이터 나누기\n",
        "from sklearn.model_selection import train_test_split\n",
        "train_input, test_input, train_target, test_target = train_test_split(\n",
        "    perch_length, perch_weight, random_state = 42 )\n",
        "\n",
        "#훈련, 테스트데이터 2차원 배열로 바꾸기\n",
        "train_input = train_input.reshape(-1,1)\n",
        "test_input = test_input.reshape(-1,1)\n",
        "\n",
        "from sklearn.neighbors import KNeighborsRegressor\n",
        "knr = KNeighborsRegressor(n_neighbors=3)\n",
        "knr.fit(train_input, train_target)\n",
        "knr.predict([[50]]) #1033 - 훨씬 더 많이나가는데 뭐지?\n",
        "\n",
        "import matplotlib.pyplot as plt\n",
        "#50cm 농어의 이웃 구하기\n",
        "distance,  indexes = knr.kneighbors([[50]])\n",
        "#훈련세트의 산점도 구하기\n",
        "plt.scatter(train_input, train_target)\n",
        "#훈련세트 중 이웃샘플만 다시구하기\n",
        "plt.scatter(train_input[indexes],train_target[indexes],marker='D')\n",
        "\n",
        "plt.scatter(50,1033,marker='^')\n",
        "plt.xlabel('length')\n",
        "plt.ylabel('weight')\n",
        "plt.show()\n",
        "#주변샘플 평균내서 원래 더 큰데 작게나옴\n",
        "\n",
        "print(np.mean(train_target[indexes])) # 50cm - 1033g 예측\n",
        "print(knr.predict([[100]])) # 100cm - 1033g예측\n",
        "\n",
        "'''100cm농어 이웃 구하기'''\n",
        "distance,  indexes = knr.kneighbors([[100]])\n",
        "plt.scatter(train_input, train_target)\n",
        "plt.scatter(train_input[indexes],train_target[indexes],marker='D')\n",
        "plt.scatter(100,1033,marker='^')\n",
        "plt.xlabel('length')\n",
        "plt.ylabel('weight')\n",
        "plt.show()"
      ],
      "metadata": {
        "colab": {
          "base_uri": "https://localhost:8080/",
          "height": 578
        },
        "id": "ZJIdo53TJ9Bv",
        "outputId": "a3bc39ec-f23d-4427-f2b9-ed1e4b171e32"
      },
      "execution_count": 10,
      "outputs": [
        {
          "output_type": "display_data",
          "data": {
            "text/plain": [
              "<Figure size 432x288 with 1 Axes>"
            ],
            "image/png": "[encoded data removed]"
          },
          "metadata": {
            "needs_background": "light"
          }
        },
        {
          "output_type": "stream",
          "name": "stdout",
          "text": [
            "1033.3333333333333\n",
            "[1033.33333333]\n"
          ]
        },
        {
          "output_type": "display_data",
          "data": {
            "text/plain": [
              "<Figure size 432x288 with 1 Axes>"
            ],
            "image/png": "[encoded data removed]"
          },
          "metadata": {
            "needs_background": "light"
          }
        }
      ]
    },
    {
      "cell_type": "markdown",
      "source": [
        "#**정리 - 선형 회귀**\n",
        " - 편차가 가장 작게 직선을 찾는다.\n",
        " - sklearn.linear_model 패키지 LinearRegression 클래스\n",
        " - fit(), score(), predict()함수\n",
        " - 속성 : coef_(기울기), intercept_(절편)\n"
      ],
      "metadata": {
        "id": "pvBwgx32ULUF"
      }
    },
    {
      "cell_type": "code",
      "source": [
        "from sklearn.linear_model import LinearRegression\n",
        "lr = LinearRegression()\n",
        "\n",
        "#선형 회귀 모델 훈련\n",
        "lr.fit(train_input,train_target)\n",
        "#50cm 농어에 대해 예측\n",
        "print(lr.predict([[50]])) #1241\n",
        "#coef_(기울기), intercept_(절편)\n",
        "print(lr.coef_,lr.intercept_) #[39.01] -709"
      ],
      "metadata": {
        "colab": {
          "base_uri": "https://localhost:8080/"
        },
        "id": "mk5vDJzYSfON",
        "outputId": "35b86212-54c1-4985-cdb4-41217bfaec8a"
      },
      "execution_count": 11,
      "outputs": [
        {
          "output_type": "stream",
          "name": "stdout",
          "text": [
            "[1241.83860323]\n",
            "[39.01714496] -709.0186449535477\n"
          ]
        }
      ]
    },
    {
      "cell_type": "markdown",
      "source": [
        "#**정리 - 정보기반학습**\n",
        "- 모델파라미터 : 알고리즘이 찾은 값\n",
        "- 모델 기반 학습 : 알고리즘의 훈련과정이 최적의 모델 파라미터를 찾는 것\n",
        " - ex ) 선형 회귀\n",
        "- 사례 기반 학습 : 훈련세트, 사례들을 \"기억\"만 하는것이 훈련의 전부\n",
        " - ex ) KNN"
      ],
      "metadata": {
        "id": "0UiBzNa4VyHO"
      }
    },
    {
      "cell_type": "code",
      "source": [
        "#훈련세트 산점도 그리기\n",
        "plt.scatter(train_input, train_target)\n",
        "\n",
        "#15에서 50까지 1차방정식 그리기\n",
        "plt.plot([15,50],[15*lr.coef_+lr.intercept_, 50*lr.coef_+ lr.intercept_])\n",
        "\n",
        "#50cm 농어 데이터\n",
        "plt.scatter(50,1241,marker = '^')\n",
        "plt.xlabel('length')\n",
        "plt.ylabel('weight')\n",
        "plt.show()\n",
        "\n",
        "#R^2점수 예측\n",
        "print(lr.score(train_input,train_target)) # 훈련 세트 - 0.939\n",
        "print(lr.score(test_input,test_target)) # 테스트 세트 - 0.824"
      ],
      "metadata": {
        "colab": {
          "base_uri": "https://localhost:8080/",
          "height": 316
        },
        "id": "MthHjw2AWh70",
        "outputId": "bf345473-2d8d-4e34-ba5d-57d353504433"
      },
      "execution_count": 12,
      "outputs": [
        {
          "output_type": "display_data",
          "data": {
            "text/plain": [
              "<Figure size 432x288 with 1 Axes>"
            ],
            "image/png": "[encoded data removed]"
          },
          "metadata": {
            "needs_background": "light"
          }
        },
        {
          "output_type": "stream",
          "name": "stdout",
          "text": [
            "0.939846333997604\n",
            "0.8247503123313558\n"
          ]
        }
      ]
    },
    {
      "cell_type": "markdown",
      "source": [
        "#**정리 - 다항 회귀**\n",
        " - 다항 회귀 : 선형회귀(1차)이상의 차수에 맞는 곡선 찾기\n",
        "  - a X 길이$^2$  + b X 길이 + c\n",
        "  - 농어의 길이를 제곱하여 원래 데이터 옆에 붙여서 진행(column_stack()함수 사용)"
      ],
      "metadata": {
        "id": "VlBfMOjN5OJV"
      }
    },
    {
      "cell_type": "code",
      "source": [
        "train_poly = np.column_stack( (train_input**2,train_input) )\n",
        "test_poly = np.column_stack( (test_input**2, test_input) )\n",
        "\n",
        "print(train_poly.shape, test_poly.shape) #(42,2) (14,2) - 열이 2개로 늘어남( 제곱, 제곱안한거 )\n",
        "lr = LinearRegression()\n",
        "lr.fit(train_poly, train_target)\n",
        "\n",
        "print(lr.predict([[50**2,50]])) #50cm인 농어에 대해 예측해 보자 - 2차식이니까 넣을때 2500,50으로 예측 시도\n",
        "print(lr.coef_,lr.intercept_) #[1.01 -21.55] 116.0  ==> [2차계수 1차계수] 절편\n",
        " "
      ],
      "metadata": {
        "colab": {
          "base_uri": "https://localhost:8080/"
        },
        "id": "hEkJyjev7Sl9",
        "outputId": "41754f95-7a18-4b51-bd53-344dbec83c7c"
      },
      "execution_count": 13,
      "outputs": [
        {
          "output_type": "stream",
          "name": "stdout",
          "text": [
            "(42, 2) (14, 2)\n",
            "[1573.98423528]\n",
            "[  1.01433211 -21.55792498] 116.0502107827827\n"
          ]
        }
      ]
    },
    {
      "cell_type": "markdown",
      "source": [
        "#**정보 - 2차방정식 vs 선형회귀?**\n",
        " - 2차방정식은 비선형인데 왜 선형회귀라고 부르지?\n",
        " - 길이$^2$을 길이'로 치환해 선형관계로 표현 "
      ],
      "metadata": {
        "id": "MN4nxmWHAZx7"
      }
    },
    {
      "cell_type": "code",
      "source": [
        "point = np.arange(15,50) #15~49들어있는 정수 배열 생성\n",
        "\n",
        "#훈련세트의 산점도 그리기\n",
        "plt.scatter(train_input,train_target)\n",
        "plt.xlabel('length')\n",
        "plt.ylabel('weight')\n",
        "\n",
        "#15에서 49까지 2차 방정식 그래프 그리기\n",
        "plt.plot(point,lr.coef_[0]*point**2+lr.coef_[1]*point+lr.intercept_)\n",
        "\n",
        "#50cm농어 데이터\n",
        "plt.scatter(50,lr.coef_[0]*50**2 + lr.coef_[1]*50 + lr.intercept_ ,marker='^') # plt.scatter(50,1574)랑 똑같다\n",
        "plt.show()\n",
        "\n",
        "print(lr.score(train_poly,train_target)) # 0.97\n",
        "print(lr.score(test_poly,test_target)) #0.97"
      ],
      "metadata": {
        "colab": {
          "base_uri": "https://localhost:8080/",
          "height": 316
        },
        "id": "E07jFVWnAZXs",
        "outputId": "f42bb8aa-9ca9-403f-fedf-08316b6537c9"
      },
      "execution_count": 14,
      "outputs": [
        {
          "output_type": "display_data",
          "data": {
            "text/plain": [
              "<Figure size 432x288 with 1 Axes>"
            ],
            "image/png": "[encoded data removed]"
          },
          "metadata": {
            "needs_background": "light"
          }
        },
        {
          "output_type": "stream",
          "name": "stdout",
          "text": [
            "0.9706807451768623\n",
            "0.9775935108325122\n"
          ]
        }
      ]
    },
    {
      "cell_type": "markdown",
      "source": [
        "#**03-3 - 특성 공학과 규제**\n",
        " - 여러 특성을 사용한 다중 회귀, 사이킷런 다양한 도구 활용\n",
        " - 과대적합 방지위한 **릿지**, **라쏘** 회귀 학습"
      ],
      "metadata": {
        "id": "6L9fWuqWqIyZ"
      }
    },
    {
      "cell_type": "markdown",
      "source": [
        "#**정리 - 다중 회귀**\n",
        " - 다중 회귀 : 여러 개의 특성을 사용한 선형 회귀\n",
        " - 특성 공학 : 기존의 특성을 사용해 새로운 특성을 뽑아내는 작업\n",
        " \n",
        " -**판다스** - 데이터 분석 라이브러리(데이터프레임 자료형 사용)\n",
        "  - 　csv 　 -> 　pd.read_ csv() 　　-> 　to_numpy()\n",
        "  - csv파일 - > 판다스 데이터프레임 -> 　넘파이 배열\n"
      ],
      "metadata": {
        "id": "1oacADBYq6of"
      }
    },
    {
      "cell_type": "code",
      "source": [
        "import pandas as pd\n",
        "df = pd.read_csv('https://bit.ly/perch_csv_data')\n",
        "perch_full = df.to_numpy() \n",
        "#length heigt width\n",
        "#[[8.4 2.11 1.41]\n",
        "# [13.7 3.53 2. ]... ]\n",
        "\n",
        "import numpy as np\n",
        "perch_weight = np.array([5.9, 32.0, 40.0, 51.5, 70.0, 100.0, 78.0, 80.0, 85.0, 85.0, 110.0,\n",
        "       115.0, 125.0, 130.0, 120.0, 120.0, 130.0, 135.0, 110.0, 130.0,\n",
        "       150.0, 145.0, 150.0, 170.0, 225.0, 145.0, 188.0, 180.0, 197.0,\n",
        "       218.0, 300.0, 260.0, 265.0, 250.0, 250.0, 300.0, 320.0, 514.0,\n",
        "       556.0, 840.0, 685.0, 700.0, 700.0, 690.0, 900.0, 650.0, 820.0,\n",
        "       850.0, 900.0, 1015.0, 820.0, 1100.0, 1000.0, 1100.0, 1000.0,\n",
        "       1000.0])\n",
        "from sklearn.model_selection import train_test_split\n",
        "train_input, test_input, train_target, test_target = train_test_split(\n",
        "    perch_full,perch_weight,random_state=42\n",
        ")"
      ],
      "metadata": {
        "id": "4aEjNDEjqIDI"
      },
      "execution_count": 15,
      "outputs": []
    },
    {
      "cell_type": "markdown",
      "source": [
        "#**정리 - 변환기**\n",
        " - 변환기 - 사이킷런은 특성을 만들거나 전처리하기위해 다양한 클래스 제공\n",
        " - fit(), transform() 등 매서드 제공\n",
        " - LinearRegression 등의 모델 클러스는 **추정기**라고도 부른다 \n",
        " "
      ],
      "metadata": {
        "id": "l4VfrzsPvcvg"
      }
    },
    {
      "cell_type": "code",
      "source": [
        "from sklearn.preprocessing import PolynomialFeatures\n",
        "poly = PolynomialFeatures()\n",
        "poly.fit([[2,3]]) #특성 조합을 입력\n",
        "poly.transform([[2,3]]) #실제로 데이터를 변환 #[[1. 2. 3. 4. 6. 9.]]\n",
        "#[2,3]이 6개의 특성을 가진 샘플 [1 2 3 4 6 9]로 변환\n",
        "#PolynomiaFeatures - 각 특성을 제곱한 항을 추가하고 특성끼리 서로 곱한 항 추가한다\n",
        "\n",
        "\"\"\"\n",
        "poly=PolynomialFeatures(include_bias=False)\n",
        "poly.fit([[2,3]])\n",
        "poly.transform([[2,3]]) #[[2. 3. 4. 6. 9.]]\n",
        "\"\"\"\n",
        "poly = PolynomialFeatures(include_bias = False)\n",
        "poly.fit(train_input)\n",
        "train_poly=poly.transform(train_input)\n",
        "train_poly.shape #l(42, 9)\n",
        "\n",
        "poly.get_feature_names_out() # 9개의 특성이 어떻게 만들어졌는지 확인 => ['x0' 'x1' 'x2' 'x0^2' 'x0 x1' 'x0 x2' 'x1^2' 'x1 x2' 'x2^2']]\n",
        "test_poly = poly.transform(test_input) \n",
        "test_poly.shape # (14, 9)\n",
        "\n",
        "from sklearn.linear_model import LinearRegression\n",
        "lr = LinearRegression()\n",
        "lr.fit(train_poly, train_target)\n",
        "\n",
        "lr.score(train_poly,train_target) #0.9903\n",
        "lr.score(test_poly,test_target) #0.9714\n",
        "\n",
        "poly = PolynomialFeatures(degree = 5, include_bias=False)\n",
        "poly.fit(train_input)\n",
        "train_poly = poly.transform(train_input)\n",
        "test_poly = poly.transform(test_input)\n",
        "\n",
        "train_poly.shape # (42, 55) #특성의 개수가 55개라는 뜻(개많노)\n",
        "\n",
        "lr.fit(train_poly,train_target)\n",
        "lr.score(train_poly,train_target) #0.9999999999991097\n",
        "lr.score(test_poly,test_target) #-144.40579242684848\n",
        "#훈련세트에만 과대적합되서 테스트할때 안맞는 경우 나오는것"
      ],
      "metadata": {
        "colab": {
          "base_uri": "https://localhost:8080/"
        },
        "id": "vGMWV7u9v8AZ",
        "outputId": "036766ff-f03e-4ef8-89dc-7b7bd8a07991"
      },
      "execution_count": 34,
      "outputs": [
        {
          "output_type": "execute_result",
          "data": {
            "text/plain": [
              "-144.40579242684848"
            ]
          },
          "metadata": {},
          "execution_count": 34
        }
      ]
    },
    {
      "cell_type": "markdown",
      "source": [
        "#**정리 - 규제**\n",
        " - **규제** : 머신러닝 모델이 훈련세트를 과도하게 학습하지 못하도록 훼방하는 것\n",
        " - 선형 회귀 모델의 경우 특성에 곱해지는 계수의 크기를 작게 만드는 일\n",
        " - **릿지 회귀** : 계수를 제곱한 값을 기준으로 규제\n",
        " - **라쏘 회귀** : 계수의 절댓값을 기준으로 규제를 적용\n",
        "  - 규제의 양 조절 : alpha값 조절\n",
        "  - alpha값 크면 규제강도 커진다.(비례)\n"
      ],
      "metadata": {
        "id": "wY3JciALjoPi"
      }
    },
    {
      "cell_type": "code",
      "source": [
        "# 55개 특성으로 훈련한 선형 회귀 모델의 계수를 규제\n",
        "# 훈련세트의 점수를 낮추고 테스트세트의 점수늘 높히자\n",
        "# 스케일이 정규화 되지 않으면 곱해지는 계수 값도 차이남\n",
        "from sklearn.preprocessing import StandardScaler\n",
        "ss = StandardScaler()\n",
        "ss.fit(train_poly)\n",
        "train_scaled = ss.transform(train_poly)\n",
        "test_scaled = ss.transform(test_poly)"
      ],
      "metadata": {
        "id": "PvKnwJgKnxmS"
      },
      "execution_count": 37,
      "outputs": []
    },
    {
      "cell_type": "code",
      "source": [
        "#릿지 회귀\n",
        "from sklearn.linear_model import Ridge\n",
        "ridge = Ridge()\n",
        "ridge.fit(train_scaled,train_target)\n",
        "ridge.score(train_scaled,train_target) #0.9896101671037343\n",
        "ridge.score(test_scaled,test_target) #0.9790693977615391\n",
        "\n",
        "import matplotlib.pyplot as plt\n",
        "train_score = []\n",
        "test_score = []\n",
        "\n",
        "#alpha늘려가면서 규제의 강도도 높혀가보자\n",
        "alpha_list = [0.001,0.01,0.1,1,10,100]\n",
        "for alpha in alpha_list:\n",
        "  ridge = Ridge(alpha = alpha)\n",
        "  ridge.fit(train_scaled,train_target)\n",
        "  train_score.append(ridge.score(train_scaled,train_target))\n",
        "  test_score.append(ridge.score(test_scaled,test_target))\n",
        "plt.plot(np.log10(alpha_list),train_score)\n",
        "plt.plot(np.log10(alpha_list),test_score)\n",
        "plt.xlabel('alpha')\n",
        "plt.ylabel('R^2')\n",
        "plt.show()\n",
        "#위가 훈련아래가 테스트\n",
        "#최적의 alpha값은 -1 즉 0.1일때다\n",
        "ridge = Ridge(alpha=0.1)\n",
        "ridge.fit(train_scaled,train_target)\n",
        "ridge.score(train_scaled,train_target) #0.9903815817570365\n",
        "ridge.score(test_scaled,test_target) #0.9827976465386884"
      ],
      "metadata": {
        "colab": {
          "base_uri": "https://localhost:8080/",
          "height": 297
        },
        "id": "DoquCnspouyp",
        "outputId": "7a8c3bd8-1c45-44f4-97a1-917ded6ab7a9"
      },
      "execution_count": 53,
      "outputs": [
        {
          "output_type": "display_data",
          "data": {
            "text/plain": [
              "<Figure size 432x288 with 1 Axes>"
            ],
            "image/png": "[encoded data removed]"
          },
          "metadata": {
            "needs_background": "light"
          }
        },
        {
          "output_type": "execute_result",
          "data": {
            "text/plain": [
              "0.9827976465386884"
            ]
          },
          "metadata": {},
          "execution_count": 53
        }
      ]
    },
    {
      "cell_type": "code",
      "source": [
        "#라쏘 회귀\n",
        "from sklearn.linear_model import Lasso\n",
        "lasso = Lasso()\n",
        "lasso.fit(train_scaled,train_target)\n",
        "lasso.score(train_scaled,train_target) #0.989789897208096\n",
        "lasso.score(test_scaled,test_target) #0.9800593698421883\n",
        "\n",
        "#alpha늘려가면서 규제 늘려나가보자\n",
        "alpha_list= [0.001,0.01,0.1,1,10,100]\n",
        "test_score=[]\n",
        "train_score=[]\n",
        "for alpha in alpha_list:\n",
        "  lasso=Lasso(alpha=alpha,max_iter=10000)\n",
        "  lasso.fit(train_scaled,train_target)\n",
        "  train_score.append(lasso.score(train_scaled,train_target))\n",
        "  test_score.append(lasso.score(test_scaled,test_target))\n",
        "\n",
        "plt.plot(np.log10(alpha_list),train_score) \n",
        "plt.plot(np.log10(alpha_list),test_score)\n",
        "plt.xlabel('alpha')\n",
        "plt.ylabel('R^2')\n",
        "plt.show()\n",
        "#최적의 alpha값은 1 즉 10이다.\n",
        "#경고 뜨는 이유는 라쏘모델이 계수 찾기위해 반복적 계산 수행하는데 지정 반복횟수가 부족할때 경고 발생\n",
        "lasso = Lasso(alpha=10)\n",
        "lasso.fit(train_scaled,train_target)\n",
        "print(lasso.score(train_scaled,train_target)) #0.9888067471131867\n",
        "print(lasso.score(test_scaled,test_target)) #0.9824470598706695"
      ],
      "metadata": {
        "colab": {
          "base_uri": "https://localhost:8080/",
          "height": 409
        },
        "id": "o2k9IFYbr2zo",
        "outputId": "5ac7ab25-8277-47af-8572-8769e9f9f035"
      },
      "execution_count": 69,
      "outputs": [
        {
          "output_type": "stream",
          "name": "stderr",
          "text": [
            "/usr/local/lib/python3.8/dist-packages/sklearn/linear_model/_coordinate_descent.py:647: ConvergenceWarning: Objective did not converge. You might want to increase the number of iterations, check the scale of the features or consider increasing regularisation. Duality gap: 1.878e+04, tolerance: 5.183e+02\n",
            "  model = cd_fast.enet_coordinate_descent(\n",
            "/usr/local/lib/python3.8/dist-packages/sklearn/linear_model/_coordinate_descent.py:647: ConvergenceWarning: Objective did not converge. You might want to increase the number of iterations, check the scale of the features or consider increasing regularisation. Duality gap: 1.297e+04, tolerance: 5.183e+02\n",
            "  model = cd_fast.enet_coordinate_descent(\n"
          ]
        },
        {
          "output_type": "display_data",
          "data": {
            "text/plain": [
              "<Figure size 432x288 with 1 Axes>"
            ],
            "image/png": "[encoded data removed]"
          },
          "metadata": {
            "needs_background": "light"
          }
        },
        {
          "output_type": "stream",
          "name": "stdout",
          "text": [
            "0.9888067471131867\n",
            "0.9824470598706695\n"
          ]
        }
      ]
    },
    {
      "cell_type": "code",
      "source": [],
      "metadata": {
        "id": "-zqKHnecsatF"
      },
      "execution_count": null,
      "outputs": []
    }
  ]
}