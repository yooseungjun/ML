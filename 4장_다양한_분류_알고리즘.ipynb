{
  "nbformat": 4,
  "nbformat_minor": 0,
  "metadata": {
    "colab": {
      "provenance": [],
      "toc_visible": true,
      "authorship_tag": "ABX9TyOFmmWk+6TujC/FFtYqmSvL",
      "include_colab_link": true
    },
    "kernelspec": {
      "name": "python3",
      "display_name": "Python 3"
    },
    "language_info": {
      "name": "python"
    }
  },
  "cells": [
    {
      "cell_type": "markdown",
      "metadata": {
        "id": "view-in-github",
        "colab_type": "text"
      },
      "source": [
        "<a href=\"https://colab.research.google.com/github/yooseungjun/ML/blob/main/4%EC%9E%A5_%EB%8B%A4%EC%96%91%ED%95%9C_%EB%B6%84%EB%A5%98_%EC%95%8C%EA%B3%A0%EB%A6%AC%EC%A6%98.ipynb\" target=\"_parent\"><img src=\"https://colab.research.google.com/assets/colab-badge.svg\" alt=\"Open In Colab\"/></a>"
      ]
    },
    {
      "cell_type": "markdown",
      "source": [
        "#**04-1 로지스틱 회귀**"
      ],
      "metadata": {
        "id": "9sBhy9APBsDn"
      }
    },
    {
      "cell_type": "markdown",
      "source": [
        "#**정리 - 다중분류**\n",
        " - 다중분류 : 2개이상의 클래스가 포함된 문제"
      ],
      "metadata": {
        "id": "TCWfxmKCONMI"
      }
    },
    {
      "cell_type": "code",
      "execution_count": 2,
      "metadata": {
        "colab": {
          "base_uri": "https://localhost:8080/"
        },
        "id": "h04p2XF0BhDq",
        "outputId": "92275abc-102f-4d5a-c29d-8d1121b76edd"
      },
      "outputs": [
        {
          "output_type": "execute_result",
          "data": {
            "text/plain": [
              "array([['Roach', 'Perch', 'Perch']], dtype=object)"
            ]
          },
          "metadata": {},
          "execution_count": 2
        }
      ],
      "source": [
        "import pandas as pd\n",
        "fish = pd.read_csv('https://bit.ly/fish_csv_data')\n",
        "fish.head() #데이터프레임 처음 5개 행 출력\n",
        "pd.unique(fish['Species']) #['Bream', 'Roach', 'Whitefish', 'Parkki', 'Perch', 'Pike', 'Smelt']\n",
        "fish_input = fish[['Weight','Length','Diagonal','Height','Width']].to_numpy() #Species열 빼고 나머지 열들 가져오고 넘파이 배열로 바꿔준다\n",
        "fish_input[:5] #fish_input 앞에 5개 행 보여준다.(0 ~ 4번 인덱스)\n",
        "fish_target = fish['Species'].to_numpy() #fish 데이터프레임에서 Species열만 가져오고 넘파이배열로 바꾸기\n",
        "\n",
        "from sklearn.model_selection import train_test_split\n",
        "train_input,test_input,train_target,test_target = train_test_split(\n",
        "    fish_input,fish_target, random_state=42\n",
        ")\n",
        "\n",
        "from sklearn.preprocessing import StandardScaler\n",
        "ss = StandardScaler()\n",
        "ss.fit(train_input)\n",
        "train_scaled = ss.transform(train_input)\n",
        "test_scaled = ss.transform(test_input)\n",
        "\n",
        "from sklearn.neighbors import KNeighborsClassifier\n",
        "kn = KNeighborsClassifier(n_neighbors=3)\n",
        "kn.fit(train_scaled, train_target)\n",
        "kn.score(train_scaled,train_target) #0.7983\n",
        "kn.score(test_scaled,test_target) #0.85\n",
        "\n",
        "kn.classes_ #['Bream', 'Parkki', 'Perch', 'Pike', 'Roach', 'Smelt', 'Whitefish']\n",
        "kn.predict(test_scaled[:5]) #['Perch', 'Smelt', 'Pike', 'Perch', 'Perch'] 테스트 케이스 5개에 대해 결과 출력한다\n",
        "\n",
        "#predict_proba() => 클래스별 확률값 출력한다\n",
        "import numpy as np\n",
        "proba = kn.predict_proba(test_scaled[:5])\n",
        "np.round(proba,decimals=4)\n",
        "# [[0.     0.     1.     0.     0.     0.     0.    ]\n",
        "#  [0.     0.     0.     0.     0.     1.     0.    ]\n",
        "#  [0.     0.     0.     1.     0.     0.     0.    ]\n",
        "#  [0.     0.     0.6667 0.     0.3333 0.     0.    ]\n",
        "#  [0.     0.     0.6667 0.     0.3333 0.     0.    ]]\n",
        "\n",
        "distances, indexes = kn.kneighbors([test_scaled[3]])\n",
        "train_target[indexes]"
      ]
    },
    {
      "cell_type": "markdown",
      "source": [
        "#**정리 - 로지스틱 회귀**\n",
        "- 회귀모델이지만 분류 모델이다\n",
        "- 선형회귀와 동일하게 선형방정식 학습\n",
        " - Z = a*(Weight) + b*(Length) + c*(Diagonal) + d*(Height) + e*(Width) + f\n",
        " - Z는 어떤 값도 가능, But 확률 되려면 0~1값 가져야한다.\n",
        " - 시그모이드 함수(로지스틱 함수) : z가 큰 음수일때 0, 큰 양수일때 1\n",
        " - ![이미지](https://velog.velcdn.com/images%2Fmetterian%2Fpost%2Fee23f919-20f3-4acd-8110-b39a99df6096%2Fimage-20210413212222497.png)\n",
        "- 불리언인덱싱 : True, False 값을 전달하여 행을 선택"
      ],
      "metadata": {
        "id": "5093hv93tWbp"
      }
    },
    {
      "cell_type": "code",
      "source": [
        "import numpy as np\n",
        "import matplotlib.pyplot as plt\n",
        "z = np.arange(-5,5,0.1) # -5부터 5까지 0.1씩 증가하는 리스트\n",
        "phi = 1/( 1+np.exp(-z) ) # 시그모이드함수 들어간 값들 리스트로\n",
        "plt.plot(z,phi)\n",
        "plt.xlabel('z')\n",
        "plt.ylabel('phi')\n",
        "plt.show()"
      ],
      "metadata": {
        "colab": {
          "base_uri": "https://localhost:8080/",
          "height": 279
        },
        "id": "kE8z9Us_yiVk",
        "outputId": "cea63429-2192-4262-ce8a-37a92994a6bd"
      },
      "execution_count": 3,
      "outputs": [
        {
          "output_type": "display_data",
          "data": {
            "text/plain": [
              "<Figure size 432x288 with 1 Axes>"
            ],
            "image/png": "[encoded data removed]"
          },
          "metadata": {
            "needs_background": "light"
          }
        }
      ]
    },
    {
      "cell_type": "code",
      "source": [
        "char_arr = np.array(['A','B','C','D','E'])\n",
        "char_arr[[True,False,True,False,False]] #['A', 'C']\n",
        "\n",
        "bream_smelt_indexes =  (train_target == 'Smelt')|(train_target == 'Bream') #도미와 빙어의 행들 모두 True로 만들기\n",
        "#bream_smelt_indexes  => [ True False False ... False]\n",
        "\n",
        "#도미와 빙어의 데이터만 골라내기\n",
        "train_bream_smelt = train_scaled[bream_smelt_indexes]\n",
        "target_bream_smelt = train_target[bream_smelt_indexes]\n",
        "\n",
        "from sklearn.linear_model import LogisticRegression\n",
        "lr = LogisticRegression()\n",
        "lr.fit(train_bream_smelt,target_bream_smelt)\n",
        "lr.predict(train_bream_smelt[:5]) #처음 5개 샘플 예측 - ['Bream', 'Smelt', 'Bream', 'Bream', 'Bream']\n",
        "lr.predict_proba(train_bream_smelt[:5]) \n",
        "#[0.99759855, 0.00240145],\n",
        "#[0.02735183, 0.97264817],\n",
        "#[0.99486072, 0.00513928],\n",
        "#[0.98584202, 0.01415798],\n",
        "#[0.99767269, 0.00232731]\n",
        "\n",
        "lr.classes_ #['Bream', 'Smelt']\n",
        "lr.coef_ #[[-0.4037798  -0.57620209 -0.66280298 -1.01290277 -0.73168947]] \n",
        "lr.intercept_ #[-2.16155132]"
      ],
      "metadata": {
        "id": "lQvSVIUJ3hmj",
        "colab": {
          "base_uri": "https://localhost:8080/"
        },
        "outputId": "e7157e2e-95a6-4a22-8615-311a4b34b71b"
      },
      "execution_count": 4,
      "outputs": [
        {
          "output_type": "execute_result",
          "data": {
            "text/plain": [
              "array([-2.16155132])"
            ]
          },
          "metadata": {},
          "execution_count": 4
        }
      ]
    },
    {
      "cell_type": "markdown",
      "source": [
        "- 로지스틱 회귀모델이 학습한 방정식\n",
        " - **Z** = -0.404*(Weight) - 0.576*(Length) - 0.663*(Diagonal) - 1.013*(Height) - 0.732*(Width) - 2.161\n",
        " - 선형회귀와 비슷하구나\n",
        " - Z값 계산 : LogisticRegression클래스 decision_function()매서드로 z값 출력"
      ],
      "metadata": {
        "id": "Sq5wn2SjCk-6"
      }
    },
    {
      "cell_type": "code",
      "source": [
        "decision = lr.decision_function(train_bream_smelt[:5])\n",
        "decision #[-6.02927744  3.57123907 -5.26568906 -4.24321775 -6.0607117 ]\n",
        "#scipy라이브러리 시그모이드함수 expit() - np.exp()사용하는 것보다 편리하고 안전하다\n",
        "from scipy.special import expit\n",
        "expit(decision) #[0.00240145, 0.97264817, 0.00513928, 0.01415798, 0.00232731]"
      ],
      "metadata": {
        "id": "_mnNeZh5DXB-",
        "colab": {
          "base_uri": "https://localhost:8080/"
        },
        "outputId": "bfc55257-5e51-40fe-c7ab-b87935931a04"
      },
      "execution_count": 5,
      "outputs": [
        {
          "output_type": "execute_result",
          "data": {
            "text/plain": [
              "array([0.00240145, 0.97264817, 0.00513928, 0.01415798, 0.00232731])"
            ]
          },
          "metadata": {},
          "execution_count": 5
        }
      ]
    },
    {
      "cell_type": "markdown",
      "source": [
        "#**정리 - LogisticRegression**\n",
        "- L2규제 : 계수의 제곱을 규제(릿지 회귀)\n",
        "- 규제제어 매개변수 **C** : alpha와 반대로 작을수록 규제강도가 강해진다 \n"
      ],
      "metadata": {
        "id": "zDVyKdRITyks"
      }
    },
    {
      "cell_type": "code",
      "source": [
        "lr = LogisticRegression(C=20, max_iter=1000)\n",
        "lr.fit(train_scaled,train_target)\n",
        "lr.score(train_scaled,train_target) #0.932\n",
        "lr.score(test_scaled,test_target) #0.925\n",
        "lr.predict(test_scaled[:5]) #5개 테스트세트 결과 ['Perch', 'Smelt', 'Pike', 'Roach', 'Perch']\n",
        "proba = lr.predict_proba(test_scaled[:5])\n",
        "np.round(proba,decimals = 3)\n",
        "# [[0.   , 0.025, 0.766, 0.001, 0.192, 0.013, 0.004],\n",
        "# [0.   , 0.007, 0.068, 0.   , 0.014, 0.91 , 0.   ],\n",
        "# [0.   , 0.   , 0.06 , 0.896, 0.038, 0.005, 0.   ],\n",
        "# [0.019, 0.039, 0.395, 0.011, 0.471, 0.   , 0.065],\n",
        "# [0.   , 0.001, 0.852, 0.005, 0.136, 0.003, 0.003]]\n",
        "lr.classes_ #['Bream', 'Parkki', 'Perch', 'Pike', 'Roach', 'Smelt', 'Whitefish']\n",
        "lr.coef_ # [[-0.94321227, -0.55901363,  1.85487617,  6.03487835, -0.91928615]....[]]\n",
        "lr.intercept_ #[ 0.13993767, -0.39212269,  3.14255476, -0.03508399,  2.23086966, -6.07216574,  0.98601033]\n",
        "lr.coef_.shape # (7, 5)\n",
        "lr.intercept_.shape #(7, )"
      ],
      "metadata": {
        "colab": {
          "base_uri": "https://localhost:8080/"
        },
        "id": "DLWkNrW9VFHv",
        "outputId": "108aae7b-f982-45bb-bd41-f2450b7b8309"
      },
      "execution_count": 6,
      "outputs": [
        {
          "output_type": "execute_result",
          "data": {
            "text/plain": [
              "(7,)"
            ]
          },
          "metadata": {},
          "execution_count": 6
        }
      ]
    },
    {
      "cell_type": "markdown",
      "source": [
        "#**정리 - 소프트맥스 함수**\n",
        " - coef_ : 열 5개 + 행이 7개 -> z를 7번 계산한다는 뜻\n",
        " - intercept_ : 7개\n",
        " - **다중분류** : 클래스마다 z값 계산 -> 가장 높은 z 출력 == 예측 클래스\n",
        "  - **소프트맥스함수**를 사용한다.\n",
        "  - ![이미지](https://3.bp.blogspot.com/-u5Hwgle7FcI/WUME0JcHSnI/AAAAAAAAKE8/Vv96ahLFeGMa6wvG8Yx0mL5_alEOCIQHQCLcBGAs/s1600/b1.JPG)\n",
        "  "
      ],
      "metadata": {
        "id": "uiGnWhmEXCDs"
      }
    },
    {
      "cell_type": "code",
      "source": [
        "decision = lr.decision_function(test_scaled[:5])\n",
        "print(np.round(decision,decimals=2))\n",
        "from scipy.special import softmax\n",
        "proba = softmax(decision,axis=1)\n",
        "print(np.round(proba,decimals=3))"
      ],
      "metadata": {
        "colab": {
          "base_uri": "https://localhost:8080/"
        },
        "id": "BPSGCu-kVZZO",
        "outputId": "2cd180b3-2a27-4445-ff9d-c086fbfe66e2"
      },
      "execution_count": 7,
      "outputs": [
        {
          "output_type": "stream",
          "name": "stdout",
          "text": [
            "[[ -6.5    1.03   5.16  -2.73   3.34   0.33  -0.63]\n",
            " [-10.86   1.93   4.77  -2.4    2.98   7.84  -4.26]\n",
            " [ -4.34  -6.23   3.17   6.49   2.36   2.42  -3.87]\n",
            " [ -0.68   0.45   2.65  -1.19   3.26  -5.75   1.26]\n",
            " [ -6.4   -1.99   5.82  -0.11   3.5   -0.11  -0.71]]\n",
            "[[0.    0.014 0.841 0.    0.136 0.007 0.003]\n",
            " [0.    0.003 0.044 0.    0.007 0.946 0.   ]\n",
            " [0.    0.    0.034 0.935 0.015 0.016 0.   ]\n",
            " [0.011 0.034 0.306 0.007 0.567 0.    0.076]\n",
            " [0.    0.    0.904 0.002 0.089 0.002 0.001]]\n"
          ]
        }
      ]
    },
    {
      "cell_type": "markdown",
      "source": [
        "#**정리 -  함수정리**\n",
        "- lr.classes_ => ['Bream' 'Smelt']\n",
        "- train_bream_smelt[:2] => [[..] [..] ..]\n",
        "- lr.predict_proba(train_bream_smelt[:2]) => [[0.99 0.02] [0.02 0.97] ]\n",
        "- lr.decision_function(train_bream_smelt[:2]) => [-6.0 3.5] (lr.classes_[1] 기준)\n",
        "- expit(lr.decision_function(train_bream_smelt[:2]) => [0.02 0.97] "
      ],
      "metadata": {
        "id": "T01zd39h5x4S"
      }
    },
    {
      "cell_type": "code",
      "source": [
        "print(lr.classes_)\n",
        "print(' ')\n",
        "lr.fit(train_bream_smelt,target_bream_smelt)\n",
        "print(train_bream_smelt[:2])\n",
        "print(' ')\n",
        "print(lr.predict_proba(train_bream_smelt[:2]))\n",
        "print(' ')\n",
        "print('lr.classes_[1]원소를 기준으로 한다')\n",
        "print(lr.decision_function(train_bream_smelt[:2]))\n",
        "print(' ')\n",
        "print(expit(lr.decision_function(train_bream_smelt[:2])))\n",
        "print(target_bream_smelt[:2])"
      ],
      "metadata": {
        "colab": {
          "base_uri": "https://localhost:8080/"
        },
        "id": "UMJeQtey7fBo",
        "outputId": "2081b69c-67fe-4243-f663-b102ae18129b"
      },
      "execution_count": 19,
      "outputs": [
        {
          "output_type": "stream",
          "name": "stdout",
          "text": [
            "['Bream' 'Smelt']\n",
            " \n",
            "[[ 0.91965782  0.60943175  0.81041221  1.85194896  1.00075672]\n",
            " [-1.0858536  -1.68646987 -1.70848587 -1.70159849 -2.0044758 ]]\n",
            " \n",
            "[[9.99975211e-01 2.47892835e-05]\n",
            " [1.66616319e-03 9.98333837e-01]]\n",
            " \n",
            "lr.classes_[1]원소를 기준으로 한다\n",
            "[-10.60507433   6.39556424]\n",
            " \n",
            "[2.47892835e-05 9.98333837e-01]\n",
            "['Bream' 'Smelt']\n"
          ]
        }
      ]
    },
    {
      "cell_type": "code",
      "source": [],
      "metadata": {
        "id": "ESkwjig_EBc2"
      },
      "execution_count": null,
      "outputs": []
    },
    {
      "cell_type": "markdown",
      "source": [
        "#**04-2 확률적 경사 하강법**\n",
        "- 데이터를 한꺼번에 가지고있는게 아니라 조금씩 증가될때 어떡하지?\n",
        " - Sol_1) 기존의 훈련 데이터에 새로운 데이터를 추가하여 모델을 매번 다시 훈련\n",
        "   - 시간이 지날수록 데이터 늘어난다 -> 서버용량을 늘려야 한다\n",
        " - Sol_2) 새로운 데이터를 추가할 때 이전의 데이터를 버림으로써 훈련 데이터 크기 유지\n",
        "   - 버리는 데이터 중 중요한 생선 데이터가 포함되어 있다면 문제가 된다\n",
        " - Sol_3) 새로운 데이터에 대해서만 조금씩 더 훈련한다\n",
        "   - Good\n",
        "   - **점진적학습, 온라인 학습** Ex) 확률적 경사 하강법\n",
        "- **확률적 경사 하강법**\n",
        " - 확률적 : 무작위, 랜덤하게\n",
        " - 경사 : 기울기\n",
        " - 하강법 : 내려가는 방법\n",
        " - 산에서 내려올때 가장 빠른 길은 경사가 가장 가파른 길 => 조금씩 내려오는 것도 중요하다\n",
        " - 확률적 경사 하강법 - 훈련 세트에서 랜덤하게 하나의 샘플을 고른다\n",
        "   - 전체 샘플 다 사용할 때까지 - 다 못 내려왔으면? - 처음부터 다시시작\n",
        " - **에포크** : 훈련 세트 한 번 모두 사용하는 과정\n",
        "- **미니배치 경사 하강법**\n",
        " - 훈련세트에서 샘플을 여러개 추출한다\n",
        "- **배치 경사 하강법**\n",
        " - 훈련세트에서 전체 샘플을 추출한다"
      ],
      "metadata": {
        "id": "88_x0ibr-mz-"
      }
    },
    {
      "cell_type": "markdown",
      "source": [
        "#**정리 - 손실함수**\n",
        " - 손실함수 :  어떤 문제에서 머신러닝 알고리즘이 얼마나 엉터리인지 특정하는 기준 => 작을수록 좋다\n",
        " - 비용함수 : 손실함수의 다른말\n",
        " - (엄밀하게 정의) **손실함수** - 샘플 하나에 대한 손실 / **비용함수** - 모든 샘플에 대한 손실함수의 합\n",
        " - **로지스틱 손실함수 = 이진 크로스엔트로피 손실함수** : 이진 분류\n",
        " - **크로스엔트로피 손실함수** : 다중 분류\n",
        " - 회귀의 손실함수 : **평균제곱오차-MeanSquaredError** (타깃에서 예측을 뺀 절댓값을 모든 샘플에 평균)"
      ],
      "metadata": {
        "id": "D70VzDoZH_sK"
      }
    },
    {
      "cell_type": "code",
      "source": [
        "from pandas.core.common import random_state\n",
        "import pandas as pd\n",
        "fish = pd.read_csv('https://bit.ly/fish_csv_data')\n",
        "fish_input = fish[['Weight','Length','Diagonal','Height','Width']].to_numpy()\n",
        "fish_target = fish['Species'].to_numpy()\n",
        "\n",
        "from sklearn.model_selection import train_test_split\n",
        "train_input,test_input,train_target,test_target = train_test_split(\n",
        "    fish_input, fish_target,random_state=42\n",
        ")\n",
        "from sklearn.preprocessing import StandardScaler\n",
        "ss = StandardScaler()\n",
        "ss.fit(train_input)\n",
        "train_scaled = ss.transform(train_input)\n",
        "test_scaled  = ss.transform(test_input)\n",
        "\n",
        "from sklearn.linear_model import SGDClassifier\n",
        "sc = SGDClassifier(loss='log',max_iter = 10, random_state=42)\n",
        "sc.fit(train_scaled,train_target)\n",
        "sc.score(train_scaled,train_target) #0.773109243697479\n",
        "sc.score(test_scaled,test_target) #0.775\n",
        "\n",
        "#모델을 이어서 훈련 - partial_fit()\n",
        "sc.partial_fit(train_scaled,train_target)\n",
        "sc.score(train_scaled,train_target) #0.8151260504201681\n",
        "sc.score(test_scaled,test_target) #0.85"
      ],
      "metadata": {
        "id": "rhH0qzrgTX8Q"
      },
      "execution_count": null,
      "outputs": []
    },
    {
      "cell_type": "markdown",
      "source": [
        "#**정보 - 에포크와 과대/과소 적합**\n",
        "![이미지](https://blog.kakaocdn.net/dn/biSoku/btqOeCciYnI/Yb6sCmxtBOBmE7F9AFjdWK/img.png)"
      ],
      "metadata": {
        "id": "b9Elnveh5gEa"
      }
    },
    {
      "cell_type": "code",
      "source": [
        "import numpy as np\n",
        "sc = SGDClassifier(loss = 'log',random_state=42)\n",
        "train_score = []\n",
        "test_score = []\n",
        "classes = np.unique(train_target) #train_target의 7개 생선목록\n",
        "\n",
        "for _ in range(0,300):\n",
        "  sc.partial_fit(train_scaled, train_target,classes=classes)\n",
        "  train_score.append(sc.score(train_scaled,train_target))\n",
        "  test_score.append(sc.score(test_scaled,test_target))\n",
        "\n",
        "import matplotlib.pyplot as plt\n",
        "plt.plot(train_score)\n",
        "plt.plot(test_score)\n",
        "plt.xlabel('epoch')\n",
        "plt.ylabel('accuracy')\n",
        "plt.show()\n",
        "#파란색 훈련데이터 세트\n",
        "#주황색 테스트데이터 세트"
      ],
      "metadata": {
        "colab": {
          "base_uri": "https://localhost:8080/",
          "height": 279
        },
        "id": "eqfwJz-qYNL8",
        "outputId": "252867cb-8d71-43a6-cb17-8aa8a9a6858c"
      },
      "execution_count": 9,
      "outputs": [
        {
          "output_type": "display_data",
          "data": {
            "text/plain": [
              "<Figure size 432x288 with 1 Axes>"
            ],
            "image/png": "[encoded data removed]"
          },
          "metadata": {
            "needs_background": "light"
          }
        }
      ]
    },
    {
      "cell_type": "code",
      "source": [
        "sc = SGDClassifier(loss = 'log',max_iter = 100,tol = None, random_state=42)\n",
        "sc.fit(train_scaled,train_target)\n",
        "sc.score(train_scaled,train_target) #0.957983193277311\n",
        "sc.score(test_scaled,test_target) #0.925\n",
        "\n",
        "sc = SGDClassifier(loss='hinge',max_iter = 100,tol=None, random_state = 42)\n",
        "sc.fit(train_scaled,train_target)\n",
        "sc.score(train_scaled,train_target) #0.9495798319327731\n",
        "sc.score(test_scaled,test_target) #0.925"
      ],
      "metadata": {
        "colab": {
          "base_uri": "https://localhost:8080/"
        },
        "id": "rUKoXn23aOoU",
        "outputId": "9539d037-333e-4825-8022-069bd1b57c9a"
      },
      "execution_count": 11,
      "outputs": [
        {
          "output_type": "execute_result",
          "data": {
            "text/plain": [
              "0.925"
            ]
          },
          "metadata": {},
          "execution_count": 11
        }
      ]
    }
  ]
}