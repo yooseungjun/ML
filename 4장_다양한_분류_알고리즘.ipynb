{
  "nbformat": 4,
  "nbformat_minor": 0,
  "metadata": {
    "colab": {
      "provenance": [],
      "toc_visible": true,
      "authorship_tag": "ABX9TyNnKzYAPEt47iGpQAZqhrbg",
      "include_colab_link": true
    },
    "kernelspec": {
      "name": "python3",
      "display_name": "Python 3"
    },
    "language_info": {
      "name": "python"
    }
  },
  "cells": [
    {
      "cell_type": "markdown",
      "metadata": {
        "id": "view-in-github",
        "colab_type": "text"
      },
      "source": [
        "<a href=\"https://colab.research.google.com/github/yooseungjun/ML/blob/main/4%EC%9E%A5_%EB%8B%A4%EC%96%91%ED%95%9C_%EB%B6%84%EB%A5%98_%EC%95%8C%EA%B3%A0%EB%A6%AC%EC%A6%98.ipynb\" target=\"_parent\"><img src=\"https://colab.research.google.com/assets/colab-badge.svg\" alt=\"Open In Colab\"/></a>"
      ]
    },
    {
      "cell_type": "markdown",
      "source": [
        "#**04-1 로지스틱 회귀**"
      ],
      "metadata": {
        "id": "9sBhy9APBsDn"
      }
    },
    {
      "cell_type": "markdown",
      "source": [
        "#**정리 - 다중분류**\n",
        " - 다중분류 : 2개이상의 클래스가 포함된 문제"
      ],
      "metadata": {
        "id": "TCWfxmKCONMI"
      }
    },
    {
      "cell_type": "code",
      "execution_count": 57,
      "metadata": {
        "colab": {
          "base_uri": "https://localhost:8080/"
        },
        "id": "h04p2XF0BhDq",
        "outputId": "bb8ab2b3-c668-4d3d-c15c-b89232968416"
      },
      "outputs": [
        {
          "output_type": "execute_result",
          "data": {
            "text/plain": [
              "array([['Roach', 'Perch', 'Perch']], dtype=object)"
            ]
          },
          "metadata": {},
          "execution_count": 57
        }
      ],
      "source": [
        "import pandas as pd\n",
        "fish = pd.read_csv('https://bit.ly/fish_csv_data')\n",
        "fish.head() #데이터프레임 처음 5개 행 출력\n",
        "pd.unique(fish['Species']) #['Bream', 'Roach', 'Whitefish', 'Parkki', 'Perch', 'Pike', 'Smelt']\n",
        "fish_input = fish[['Weight','Length','Diagonal','Height','Width']].to_numpy() #Species열 빼고 나머지 열들 가져오고 넘파이 배열로 바꿔준다\n",
        "fish_input[:5] #fish_input 앞에 5개 행 보여준다.(0 ~ 4번 인덱스)\n",
        "fish_target = fish['Species'].to_numpy() #fish 데이터프레임에서 Species열만 가져오고 넘파이배열로 바꾸기\n",
        "\n",
        "from sklearn.model_selection import train_test_split\n",
        "train_input,test_input,train_target,test_target = train_test_split(\n",
        "    fish_input,fish_target, random_state=42\n",
        ")\n",
        "\n",
        "from sklearn.preprocessing import StandardScaler\n",
        "ss = StandardScaler()\n",
        "ss.fit(train_input)\n",
        "train_scaled = ss.transform(train_input)\n",
        "test_scaled = ss.transform(test_input)\n",
        "\n",
        "from sklearn.neighbors import KNeighborsClassifier\n",
        "kn = KNeighborsClassifier(n_neighbors=3)\n",
        "kn.fit(train_scaled, train_target)\n",
        "kn.score(train_scaled,train_target) #0.7983\n",
        "kn.score(test_scaled,test_target) #0.85\n",
        "\n",
        "kn.classes_ #['Bream', 'Parkki', 'Perch', 'Pike', 'Roach', 'Smelt', 'Whitefish']\n",
        "kn.predict(test_scaled[:5]) #['Perch', 'Smelt', 'Pike', 'Perch', 'Perch'] 테스트 케이스 5개에 대해 결과 출력한다\n",
        "\n",
        "#predict_proba() => 클래스별 확률값 출력한다\n",
        "import numpy as np\n",
        "proba = kn.predict_proba(test_scaled[:5])\n",
        "np.round(proba,decimals=4)\n",
        "# [[0.     0.     1.     0.     0.     0.     0.    ]\n",
        "#  [0.     0.     0.     0.     0.     1.     0.    ]\n",
        "#  [0.     0.     0.     1.     0.     0.     0.    ]\n",
        "#  [0.     0.     0.6667 0.     0.3333 0.     0.    ]\n",
        "#  [0.     0.     0.6667 0.     0.3333 0.     0.    ]]\n",
        "\n",
        "distances, indexes = kn.kneighbors([test_scaled[3]])\n",
        "train_target[indexes]"
      ]
    },
    {
      "cell_type": "markdown",
      "source": [
        "#**정리 - 로지스틱 회귀**\n",
        "- 회귀모델이지만 분류 모델이다\n",
        "- 선형회귀와 동일하게 선형방정식 학습\n",
        " - Z = a*(Weight) + b*(Length) + c*(Diagonal) + d*(Height) + e*(Width) + f\n",
        " - Z는 어떤 값도 가능, But 확률 되려면 0~1값 가져야한다.\n",
        " - 시그모이드 함수(로지스틱 함수) : z가 큰 음수일때 0, 큰 양수일때 1\n",
        " - ![이미지](https://velog.velcdn.com/images%2Fmetterian%2Fpost%2Fee23f919-20f3-4acd-8110-b39a99df6096%2Fimage-20210413212222497.png)\n",
        "- 불리언인덱싱 : True, False 값을 전달하여 행을 선택"
      ],
      "metadata": {
        "id": "5093hv93tWbp"
      }
    },
    {
      "cell_type": "code",
      "source": [
        "import numpy as np\n",
        "import matplotlib.pyplot as plt\n",
        "z = np.arange(-5,5,0.1) # -5부터 5까지 0.1씩 증가하는 리스트\n",
        "phi = 1/( 1+np.exp(-z) ) # 시그모이드함수 들어간 값들 리스트로\n",
        "plt.plot(z,phi)\n",
        "plt.xlabel('z')\n",
        "plt.ylabel('phi')\n",
        "plt.show()"
      ],
      "metadata": {
        "colab": {
          "base_uri": "https://localhost:8080/",
          "height": 279
        },
        "id": "kE8z9Us_yiVk",
        "outputId": "25634a01-fd1c-40dd-c742-49dc93f3e65b"
      },
      "execution_count": 61,
      "outputs": [
        {
          "output_type": "display_data",
          "data": {
            "text/plain": [
              "<Figure size 432x288 with 1 Axes>"
            ],
            "image/png": "[encoded data removed]"
          },
          "metadata": {
            "needs_background": "light"
          }
        }
      ]
    },
    {
      "cell_type": "code",
      "source": [
        "char_arr = np.array(['A','B','C','D','E'])\n",
        "char_arr[[True,False,True,False,False]] #['A', 'C']\n",
        "\n",
        "bream_smelt_indexes =  (train_target == 'Smelt')|(train_target == 'Bream') #도미와 빙어의 행들 모두 True로 만들기\n",
        "#bream_smelt_indexes  => [ True False False ... False]\n",
        "\n",
        "#도미와 빙어의 데이터만 골라내기\n",
        "train_bream_smelt = train_scaled[bream_smelt_indexes]\n",
        "target_bream_smelt = train_target[bream_smelt_indexes]\n",
        "\n",
        "from sklearn.linear_model import LogisticRegression\n",
        "lr = LogisticRegression()\n",
        "lr.fit(train_bream_smelt,target_bream_smelt)\n",
        "lr.predict(train_bream_smelt[:5]) #처음 5개 샘플 예측 - ['Bream', 'Smelt', 'Bream', 'Bream', 'Bream']\n",
        "lr.predict_proba(train_bream_smelt[:5]) \n",
        "#[0.99759855, 0.00240145],\n",
        "#[0.02735183, 0.97264817],\n",
        "#[0.99486072, 0.00513928],\n",
        "#[0.98584202, 0.01415798],\n",
        "#[0.99767269, 0.00232731]\n",
        "\n",
        "lr.classes_ #['Bream', 'Smelt']\n",
        "lr.coef #[[-0.4037798  -0.57620209 -0.66280298 -1.01290277 -0.73168947]] \n",
        "lr.intercept_ #[-2.16155132]"
      ],
      "metadata": {
        "id": "lQvSVIUJ3hmj"
      },
      "execution_count": null,
      "outputs": []
    },
    {
      "cell_type": "markdown",
      "source": [
        "- 로지스틱 회귀모델이 학습한 방정식\n",
        " - **Z** = -0.404*(Weight) - 0.576*(Length) - 0.663*(Diagonal) - 1.013*(Height) - 0.732*(Width) - 2.161\n",
        " - 선형회귀와 비슷하구나\n",
        " - Z값 계산 : LogisticRegression클래스 decision_function()매서드로 z값 출력"
      ],
      "metadata": {
        "id": "Sq5wn2SjCk-6"
      }
    },
    {
      "cell_type": "code",
      "source": [
        "decision = lr.decision_function(train_bream_smelt[:5])\n",
        "decision #[-6.02927744  3.57123907 -5.26568906 -4.24321775 -6.0607117 ]\n",
        "#scipy라이브러리 시그모이드함수 expit() - np.exp()사용하는 것보다 편리하고 안전하다\n",
        "from scipy.special import expit\n",
        "expit(decision) #[0.00240145, 0.97264817, 0.00513928, 0.01415798, 0.00232731]"
      ],
      "metadata": {
        "id": "_mnNeZh5DXB-"
      },
      "execution_count": null,
      "outputs": []
    },
    {
      "cell_type": "markdown",
      "source": [
        "#**정리 - LogisticRegression**\n",
        "- L2규제 : 계수의 제곱을 규제(릿지 회귀)\n",
        "- 규제제어 매개변수 **C** : alpha와 반대로 작을수록 규제강도가 강해진다 \n"
      ],
      "metadata": {
        "id": "zDVyKdRITyks"
      }
    },
    {
      "cell_type": "code",
      "source": [
        "lr = LogisticRegression(C=20, max_iter=1000)\n",
        "lr.fit(train_scaled,train_target)\n",
        "lr.score(train_scaled,train_target) #0.932\n",
        "lr.score(test_scaled,test_target) #0.925\n",
        "lr.predict(test_scaled[:5]) #5개 테스트세트 결과 ['Perch', 'Smelt', 'Pike', 'Roach', 'Perch']\n",
        "proba = lr.predict_proba(test_scaled[:5])\n",
        "np.round(proba,decimals = 3)\n",
        "# [[0.   , 0.025, 0.766, 0.001, 0.192, 0.013, 0.004],\n",
        "# [0.   , 0.007, 0.068, 0.   , 0.014, 0.91 , 0.   ],\n",
        "# [0.   , 0.   , 0.06 , 0.896, 0.038, 0.005, 0.   ],\n",
        "# [0.019, 0.039, 0.395, 0.011, 0.471, 0.   , 0.065],\n",
        "# [0.   , 0.001, 0.852, 0.005, 0.136, 0.003, 0.003]]\n",
        "lr.classes_ #['Bream', 'Parkki', 'Perch', 'Pike', 'Roach', 'Smelt', 'Whitefish']\n",
        "lr.coef_ # [[-0.94321227, -0.55901363,  1.85487617,  6.03487835, -0.91928615]....[]]\n",
        "lr.intercept_ #[ 0.13993767, -0.39212269,  3.14255476, -0.03508399,  2.23086966, -6.07216574,  0.98601033]\n",
        "lr.coef_.shape # (7, 5)\n",
        "lr.intercept_.shape #(7, )"
      ],
      "metadata": {
        "colab": {
          "base_uri": "https://localhost:8080/"
        },
        "id": "DLWkNrW9VFHv",
        "outputId": "e5d5975f-e7a5-47a8-a44b-89cad8c5d942"
      },
      "execution_count": 129,
      "outputs": [
        {
          "output_type": "execute_result",
          "data": {
            "text/plain": [
              "(7,)"
            ]
          },
          "metadata": {},
          "execution_count": 129
        }
      ]
    },
    {
      "cell_type": "markdown",
      "source": [
        "#**정리 - 소프트맥스 함수**\n",
        " - coef_ : 열 5개 + 행이 7개 -> z를 7번 계산한다는 뜻\n",
        " - intercept_ : 7개\n",
        " - **다중분류** : 클래스마다 z값 계산 -> 가장 높은 z 출력 == 예측 클래스\n",
        "  - **소프트맥스함수**를 사용한다.\n",
        "  - ![이미지](https://3.bp.blogspot.com/-u5Hwgle7FcI/WUME0JcHSnI/AAAAAAAAKE8/Vv96ahLFeGMa6wvG8Yx0mL5_alEOCIQHQCLcBGAs/s1600/b1.JPG)\n",
        "  "
      ],
      "metadata": {
        "id": "uiGnWhmEXCDs"
      }
    },
    {
      "cell_type": "code",
      "source": [
        "decision = lr.decision_function(test_scaled[:5])\n",
        "print(np.round(decision,decimals=2))\n",
        "from scipy.special import softmax\n",
        "proba = softmax(decision,axis=1)\n",
        "print(np.round(proba,decimals=3))"
      ],
      "metadata": {
        "colab": {
          "base_uri": "https://localhost:8080/"
        },
        "id": "BPSGCu-kVZZO",
        "outputId": "d1a739ea-3a87-45ac-ba32-9d8a845acc45"
      },
      "execution_count": 135,
      "outputs": [
        {
          "output_type": "stream",
          "name": "stdout",
          "text": [
            "[[ -6.5    1.03   5.16  -2.73   3.34   0.33  -0.63]\n",
            " [-10.86   1.93   4.77  -2.4    2.98   7.84  -4.26]\n",
            " [ -4.34  -6.23   3.17   6.49   2.36   2.42  -3.87]\n",
            " [ -0.68   0.45   2.65  -1.19   3.26  -5.75   1.26]\n",
            " [ -6.4   -1.99   5.82  -0.11   3.5   -0.11  -0.71]]\n",
            "[[0.    0.014 0.841 0.    0.136 0.007 0.003]\n",
            " [0.    0.003 0.044 0.    0.007 0.946 0.   ]\n",
            " [0.    0.    0.034 0.935 0.015 0.016 0.   ]\n",
            " [0.011 0.034 0.306 0.007 0.567 0.    0.076]\n",
            " [0.    0.    0.904 0.002 0.089 0.002 0.001]]\n"
          ]
        }
      ]
    }
  ]
}