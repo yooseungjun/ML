{
  "nbformat": 4,
  "nbformat_minor": 0,
  "metadata": {
    "colab": {
      "provenance": [],
      "toc_visible": true,
      "authorship_tag": "ABX9TyOJbO85AvCBSqd20q8fXj0m",
      "include_colab_link": true
    },
    "kernelspec": {
      "name": "python3",
      "display_name": "Python 3"
    },
    "language_info": {
      "name": "python"
    }
  },
  "cells": [
    {
      "cell_type": "markdown",
      "metadata": {
        "id": "view-in-github",
        "colab_type": "text"
      },
      "source": [
        "<a href=\"https://colab.research.google.com/github/yooseungjun/ML/blob/main/1%EC%9E%A5_%EB%82%98%EC%9D%98_%EC%B2%AB_%EB%A8%B8%EC%8B%A0%EB%9F%AC%EB%8B%9D.ipynb\" target=\"_parent\"><img src=\"https://colab.research.google.com/assets/colab-badge.svg\" alt=\"Open In Colab\"/></a>"
      ]
    },
    {
      "cell_type": "markdown",
      "source": [
        "#**01-1 인공지능과 머신러닝, 딥러닝**\n",
        " - **인공지능** : 사람처럼 학습하고 추론할 수 있는 지능을 가진 시스템 만드는 기술\n",
        "  - **인공지능 태동기 : 1943 ~ 1956**\n",
        "    - 1943년 워런 매컬러, 월터 피츠 - 최초 뇌의 뉴런 개념 발표\n",
        "    - 1950년 앨런튜링 - 튜링테스트 \n",
        "  - **인공지능 황금기 : 1957 ~ 1974**\n",
        "    - 1957년 로젠블라트 - 퍼셉트론 발표(로지스틱 회귀 초기버전)\n",
        "    - 1957년 허블, 비셀 - 고양이 시각 피질 뉴런기능 연구\n",
        "  - 일반인공지능, 강인공지능 : 사람과 구분하기 힘들정도 지능 가진 시스템\n",
        "  - 약인공지능 : 사람의 일을 도와주는 보조역할\n",
        " - **머신러닝** : 규칙을 일일이 프로그래밍하지 않아도 자동으로 데이터에서 규칙 학습  \n",
        "  - 사이킷런 :  대표적 머신러닝 라이브러리\n",
        " - **딥러닝** : 인공신경망을 기반으로 한 방법"
      ],
      "metadata": {
        "id": "EPFYMYYRAQdC"
      }
    },
    {
      "cell_type": "markdown",
      "source": [
        "#**01-2 코랩과 주피터 노트북**\n",
        "- 마크다운 형식  \n",
        "  \\# : \\<h1\\> 태그  \n",
        "  \\## : \\<h2\\> 태그   \n",
        "  \\** : 굵게쓰기  \n",
        "  \\*, \\_ : 기울임 꼴  \n",
        "  \\` : 백틱기호로 코드서채로  \n",
        "  \\> : 들여쓰기  \n",
        "  \\*, \\- : 글머리기호"
      ],
      "metadata": {
        "id": "ZPmzn8lMJKss"
      }
    },
    {
      "cell_type": "markdown",
      "source": [
        "# **01-3 마켓과 머신러닝**"
      ],
      "metadata": {
        "id": "aW6cpb4RLEr5"
      }
    },
    {
      "cell_type": "code",
      "source": [
        "import matplotlib.pyplot as plt\n",
        "#도미 데이터 출처 \"bit.ly/bream_list\"\n",
        "bream_length = [25.4, 26.3, 26.5, 29.0, 29.0, 29.7, 29.7, 30.0, 30.0, 30.7, 31.0, 31.0, \n",
        "                31.5, 32.0, 32.0, 32.0, 33.0, 33.0, 33.5, 33.5, 34.0, 34.0, 34.5, 35.0, \n",
        "                35.0, 35.0, 35.0, 36.0, 36.0, 37.0, 38.5, 38.5, 39.5, 41.0, 41.0]\n",
        "bream_weight = [242.0, 290.0, 340.0, 363.0, 430.0, 450.0, 500.0, 390.0, 450.0, 500.0, 475.0, 500.0, \n",
        "                500.0, 340.0, 600.0, 600.0, 700.0, 700.0, 610.0, 650.0, 575.0, 685.0, 620.0, 680.0, \n",
        "                700.0, 725.0, 720.0, 714.0, 850.0, 1000.0, 920.0, 955.0, 925.0, 975.0, 950.0]\n",
        "\n",
        "#빙어 데이터 출처 \"bit.ly/smelt_list\"\n",
        "smelt_length = [9.8, 10.5, 10.6, 11.0, 11.2, 11.3, 11.8, 11.8, 12.0, 12.2, 12.4, 13.0, 14.3, 15.0]\n",
        "smelt_weight = [6.7, 7.5, 7.0, 9.7, 9.8, 8.7, 10.0, 9.9, 9.8, 12.2, 13.4, 12.2, 19.7, 19.9]\n",
        "\n",
        "#도미와 빙어데이터 점찍기\n",
        "plt.scatter(bream_length,bream_weight)\n",
        "plt.scatter(smelt_length,smelt_weight)\n",
        "plt.ylabel(\"length\")\n",
        "plt.xlabel(\"weight\")\n",
        "plt.show()\n",
        "\n",
        "#도미와 빙어 데이터 합치기(파이썬 더하기는 concatenation)\n",
        "length = bream_length + smelt_length\n",
        "weight = bream_weight + smelt_weight\n",
        "\n",
        "fish_data = [ [i,j] for i,j in zip(length,weight)] #도미 + 빙어 무게 길이 짝(리스트 내포 구문)\n",
        "fish_target = [1]*35 + [0]*14 #1은 도미 0은 빙어 나타낸 리스트\n",
        "\n",
        "#fish_data는 2차원 리스트(리스트의 리스트)"
      ],
      "metadata": {
        "colab": {
          "base_uri": "https://localhost:8080/",
          "height": 279
        },
        "id": "fJuJiMDbAUyc",
        "outputId": "d607eadc-3079-46e7-a7a2-8783a88d9e61"
      },
      "execution_count": null,
      "outputs": [
        {
          "output_type": "display_data",
          "data": {
            "text/plain": [
              "<Figure size 432x288 with 1 Axes>"
            ],
            "image/png": "[encoded data removed]"
          },
          "metadata": {
            "needs_background": "light"
          }
        }
      ]
    },
    {
      "cell_type": "code",
      "source": [
        "from sklearn.neighbors import KNeighborsClassifier\n",
        "kn = KNeighborsClassifier()\n",
        "kn.fit(fish_data, fish_target)\n",
        "kn.score(fish_data,fish_target)\n",
        "\n",
        "#\n",
        "kn.predict([ [300,400],[10,16] ])\n",
        "\n",
        "#학습데이터 나타내는 속성\n",
        "print(kn._fit_X)\n",
        "#타겟값 나타내는 속성\n",
        "print(kn._y)"
      ],
      "metadata": {
        "id": "sgsGGiIem8RE"
      },
      "execution_count": null,
      "outputs": []
    },
    {
      "cell_type": "markdown",
      "source": [
        ">**거리같은경우 어떻게 분류?**"
      ],
      "metadata": {
        "id": "ah3XxjTX5JWu"
      }
    },
    {
      "cell_type": "code",
      "source": [
        "import matplotlib.pyplot as plt\n",
        "import numpy as np\n",
        "data_0 = [[0,0],\n",
        "          [0,2]]\n",
        "data_1 = [[2,0],\n",
        "          [2,2]]\n",
        "data_3 = np.array(data_0)\n",
        "data_4 = np.array(data_1)\n",
        "x_0 = list(zip(*data_0))[0] #0,0\n",
        "y_0 = list(zip(*data_0))[1] #0,2\n",
        "\n",
        "x_1 = list(zip(*data_1))[0] #2,2\n",
        "y_1 = list(zip(*data_1))[1] #0,2\n",
        "\n",
        "plt.scatter(data_3[:,0],data_3[:,1],marker='^')\n",
        "plt.scatter(data_4[:,0],data_4[:,1],marker='o')\n",
        "plt.show()\n",
        "\n",
        "# list(zip(*data_1))  [(2,2), (0,2)]\n",
        "\n",
        "plt.plot(x_0,y_0,'ro')\n",
        "plt.plot(x_1,y_1,'bo')\n",
        "plt.axis([-1,3,-1,3])\n",
        "plt.plot(1,1,'go')\n",
        "plt.show()\n",
        "\n",
        "data_ans = [0]*2 + [1]*2\n",
        "testkn = KNeighborsClassifier(n_neighbors=1)\n",
        "\n",
        "testkn.fit(data_0 + data_1,data_ans)\n",
        "testkn.predict([[1,1]])\n",
        "\n",
        "\n"
      ],
      "metadata": {
        "colab": {
          "base_uri": "https://localhost:8080/",
          "height": 535
        },
        "id": "BNcyJG9U1PTH",
        "outputId": "c93e5d8d-599f-4ec6-c1ed-6e56c684aa20"
      },
      "execution_count": null,
      "outputs": [
        {
          "output_type": "display_data",
          "data": {
            "text/plain": [
              "<Figure size 432x288 with 1 Axes>"
            ],
            "image/png": "[encoded data removed]"
          },
          "metadata": {
            "needs_background": "light"
          }
        },
        {
          "output_type": "display_data",
          "data": {
            "text/plain": [
              "<Figure size 432x288 with 1 Axes>"
            ],
            "image/png": "[encoded data removed]"
          },
          "metadata": {
            "needs_background": "light"
          }
        },
        {
          "output_type": "execute_result",
          "data": {
            "text/plain": [
              "array([0])"
            ]
          },
          "metadata": {},
          "execution_count": 13
        }
      ]
    },
    {
      "cell_type": "code",
      "source": [
        "# 기본의 K-Nearest 알고리즘은 주변 데이터 n=5인경우만 확인한다\n",
        "# n=49개인경우 주변 49개 데이터 확인하고 가장 많은 것 선택\n",
        "# 도미가 35개고 빙어는 14개라서 무조건 도미 선택한다.\n",
        "\n",
        "kn49 = KNeighborsClassifier(n_neighbors=49)\n",
        "kn49.fit(fish_data,fish_target)\n",
        "kn49.score(fish_data,fish_target) #35/49"
      ],
      "metadata": {
        "colab": {
          "base_uri": "https://localhost:8080/"
        },
        "id": "2KrbomcpCAB4",
        "outputId": "3b7414d5-f09e-4c62-dc72-7c3c7a4de4c1"
      },
      "execution_count": null,
      "outputs": [
        {
          "output_type": "execute_result",
          "data": {
            "text/plain": [
              "0.7142857142857143"
            ]
          },
          "metadata": {},
          "execution_count": 82
        }
      ]
    },
    {
      "cell_type": "markdown",
      "source": [
        "#**연습문제**"
      ],
      "metadata": {
        "id": "FZ4kEBEzDF-3"
      }
    },
    {
      "cell_type": "code",
      "source": [
        "kn = KNeighborsClassifier()\n",
        "kn.fit(fish_data,fish_target)\n",
        "\n",
        "for n in range(5,50):\n",
        "  kn.n_neighbors=n\n",
        "  score = kn.score(fish_data,fish_target)\n",
        "  if score < 1:\n",
        "    print(n,score)\n",
        "  "
      ],
      "metadata": {
        "id": "yQPhGVXFDIiY"
      },
      "execution_count": null,
      "outputs": []
    },
    {
      "cell_type": "markdown",
      "source": [
        "#**정리**"
      ],
      "metadata": {
        "id": "3lSz72kcyHXo"
      }
    },
    {
      "cell_type": "markdown",
      "source": [
        "##**- KNearest Neighbors (KNN)**\n",
        " - from **sklearn.neighbors** import **KNeighborsClassifier**\n",
        " - KNeighborsClassifier()\n",
        "  - 장점 : 새로운 데이터 예측할때 가장 가까운 직선거리에 어떤 데이터 있는지 확인\n",
        "  - 단점 : 메모리가 많이 필요하다, 직선거리 계산에 비용 소모\n",
        "  - _fit_X 속성 : 학습데이터 가지고 있다.\n",
        "  - _y 속성 : 타겟데이터 가지고 있다.\n",
        "  - n_neighbors : 가까운 몇개의 데이터를 참고할지 설정(하이퍼 파라미터)"
      ],
      "metadata": {
        "id": "KXc9lDH_QMo3"
      }
    },
    {
      "cell_type": "markdown",
      "source": [
        "#**정보**"
      ],
      "metadata": {
        "id": "zryQ8xveyQT4"
      }
    },
    {
      "cell_type": "markdown",
      "source": [
        "##**zip() 함수**\n",
        " - zip()함수 : 나열된 리스트에서 원소를 하나씩 꺼내주는 역할\n",
        "```\n",
        "arr1 = [1,2,3,4,5]\n",
        "arr2 = [6,7,8,9,10]\n",
        "for l,w in zip(arr1,arr2) :\n",
        "    print(l,w)\n",
        "  #배열 개수 맞지 않으면 작은것 까지 Pick\n",
        "  #출력\n",
        "  #1 6\n",
        "  #2 7\n",
        "  #3 8\n",
        "  #4 9\n",
        "  #5 10\n",
        "```\n",
        "\n"
      ],
      "metadata": {
        "id": "TcafCkeigwVs"
      }
    },
    {
      "cell_type": "markdown",
      "source": [
        "##**Numpy 배열과 Python 배열**\n",
        " - plt.scatter(x,y) : x,y넘파이 리스트로받아 점찍어주는 함수\n",
        " "
      ],
      "metadata": {
        "id": "hflKVeF4yU5F"
      }
    }
  ]
}